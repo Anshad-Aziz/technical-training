{
  "nbformat": 4,
  "nbformat_minor": 0,
  "metadata": {
    "colab": {
      "provenance": [],
      "authorship_tag": "ABX9TyPI0lqMBvlL5Tl/oY2gtGeC",
      "include_colab_link": true
    },
    "kernelspec": {
      "name": "python3",
      "display_name": "Python 3"
    },
    "language_info": {
      "name": "python"
    }
  },
  "cells": [
    {
      "cell_type": "markdown",
      "metadata": {
        "id": "view-in-github",
        "colab_type": "text"
      },
      "source": [
        "<a href=\"https://colab.research.google.com/github/Anshad-Aziz/technical-training/blob/main/Youtube_Spam_Prediction.ipynb\" target=\"_parent\"><img src=\"https://colab.research.google.com/assets/colab-badge.svg\" alt=\"Open In Colab\"/></a>"
      ]
    },
    {
      "cell_type": "code",
      "execution_count": 128,
      "metadata": {
        "id": "pEeoTRj7FfVQ"
      },
      "outputs": [],
      "source": [
        "import pandas as pd\n",
        "import numpy as np\n",
        "from sklearn.feature_extraction.text import CountVectorizer\n",
        "from sklearn.feature_extraction.text import TfidfTransformer\n",
        "from sklearn.naive_bayes import MultinomialNB\n",
        "from sklearn.metrics import confusion_matrix\n",
        "from sklearn.model_selection import cross_val_score"
      ]
    },
    {
      "cell_type": "code",
      "source": [
        "df=pd.read_csv('Youtube02-KatyPerry.csv')\n",
        "df.head()"
      ],
      "metadata": {
        "colab": {
          "base_uri": "https://localhost:8080/",
          "height": 357
        },
        "id": "GHy-fOV9GdZ6",
        "outputId": "e36cba13-4609-4f0f-802d-f76e91cc281e"
      },
      "execution_count": 129,
      "outputs": [
        {
          "output_type": "execute_result",
          "data": {
            "text/plain": [
              "                              COMMENT_ID        AUTHOR                 DATE  \\\n",
              "0      z12pgdhovmrktzm3i23es5d5junftft3f   lekanaVEVO1  2014-07-22T15:27:50   \n",
              "1    z13yx345uxepetggz04ci5rjcxeohzlrtf4      Pyunghee  2014-07-27T01:57:16   \n",
              "2  z12lsjvi3wa5x1vwh04cibeaqnzrevxajw00k    Erica Ross  2014-07-27T02:51:43   \n",
              "3    z13jcjuovxbwfr0ge04cev2ipsjdfdurwck  Aviel Haimov  2014-08-01T12:27:48   \n",
              "4  z13qybua2yfydzxzj04cgfpqdt2syfx53ms0k    John Bello  2014-08-01T21:04:03   \n",
              "\n",
              "                                             CONTENT  CLASS  \n",
              "0  i love this so much. AND also I Generate Free ...      1  \n",
              "1  http://www.billboard.com/articles/columns/pop-...      1  \n",
              "2  Hey guys! Please join me in my fight to help a...      1  \n",
              "3  http://psnboss.com/?ref=2tGgp3pV6L this is the...      1  \n",
              "4  Hey everyone. Watch this trailer!!!!!!!!  http...      1  "
            ],
            "text/html": [
              "\n",
              "  <div id=\"df-3f7e6ed8-98eb-4603-805b-0fcf95c6e1ef\">\n",
              "    <div class=\"colab-df-container\">\n",
              "      <div>\n",
              "<style scoped>\n",
              "    .dataframe tbody tr th:only-of-type {\n",
              "        vertical-align: middle;\n",
              "    }\n",
              "\n",
              "    .dataframe tbody tr th {\n",
              "        vertical-align: top;\n",
              "    }\n",
              "\n",
              "    .dataframe thead th {\n",
              "        text-align: right;\n",
              "    }\n",
              "</style>\n",
              "<table border=\"1\" class=\"dataframe\">\n",
              "  <thead>\n",
              "    <tr style=\"text-align: right;\">\n",
              "      <th></th>\n",
              "      <th>COMMENT_ID</th>\n",
              "      <th>AUTHOR</th>\n",
              "      <th>DATE</th>\n",
              "      <th>CONTENT</th>\n",
              "      <th>CLASS</th>\n",
              "    </tr>\n",
              "  </thead>\n",
              "  <tbody>\n",
              "    <tr>\n",
              "      <th>0</th>\n",
              "      <td>z12pgdhovmrktzm3i23es5d5junftft3f</td>\n",
              "      <td>lekanaVEVO1</td>\n",
              "      <td>2014-07-22T15:27:50</td>\n",
              "      <td>i love this so much. AND also I Generate Free ...</td>\n",
              "      <td>1</td>\n",
              "    </tr>\n",
              "    <tr>\n",
              "      <th>1</th>\n",
              "      <td>z13yx345uxepetggz04ci5rjcxeohzlrtf4</td>\n",
              "      <td>Pyunghee</td>\n",
              "      <td>2014-07-27T01:57:16</td>\n",
              "      <td>http://www.billboard.com/articles/columns/pop-...</td>\n",
              "      <td>1</td>\n",
              "    </tr>\n",
              "    <tr>\n",
              "      <th>2</th>\n",
              "      <td>z12lsjvi3wa5x1vwh04cibeaqnzrevxajw00k</td>\n",
              "      <td>Erica Ross</td>\n",
              "      <td>2014-07-27T02:51:43</td>\n",
              "      <td>Hey guys! Please join me in my fight to help a...</td>\n",
              "      <td>1</td>\n",
              "    </tr>\n",
              "    <tr>\n",
              "      <th>3</th>\n",
              "      <td>z13jcjuovxbwfr0ge04cev2ipsjdfdurwck</td>\n",
              "      <td>Aviel Haimov</td>\n",
              "      <td>2014-08-01T12:27:48</td>\n",
              "      <td>http://psnboss.com/?ref=2tGgp3pV6L this is the...</td>\n",
              "      <td>1</td>\n",
              "    </tr>\n",
              "    <tr>\n",
              "      <th>4</th>\n",
              "      <td>z13qybua2yfydzxzj04cgfpqdt2syfx53ms0k</td>\n",
              "      <td>John Bello</td>\n",
              "      <td>2014-08-01T21:04:03</td>\n",
              "      <td>Hey everyone. Watch this trailer!!!!!!!!  http...</td>\n",
              "      <td>1</td>\n",
              "    </tr>\n",
              "  </tbody>\n",
              "</table>\n",
              "</div>\n",
              "      <button class=\"colab-df-convert\" onclick=\"convertToInteractive('df-3f7e6ed8-98eb-4603-805b-0fcf95c6e1ef')\"\n",
              "              title=\"Convert this dataframe to an interactive table.\"\n",
              "              style=\"display:none;\">\n",
              "        \n",
              "  <svg xmlns=\"http://www.w3.org/2000/svg\" height=\"24px\"viewBox=\"0 0 24 24\"\n",
              "       width=\"24px\">\n",
              "    <path d=\"M0 0h24v24H0V0z\" fill=\"none\"/>\n",
              "    <path d=\"M18.56 5.44l.94 2.06.94-2.06 2.06-.94-2.06-.94-.94-2.06-.94 2.06-2.06.94zm-11 1L8.5 8.5l.94-2.06 2.06-.94-2.06-.94L8.5 2.5l-.94 2.06-2.06.94zm10 10l.94 2.06.94-2.06 2.06-.94-2.06-.94-.94-2.06-.94 2.06-2.06.94z\"/><path d=\"M17.41 7.96l-1.37-1.37c-.4-.4-.92-.59-1.43-.59-.52 0-1.04.2-1.43.59L10.3 9.45l-7.72 7.72c-.78.78-.78 2.05 0 2.83L4 21.41c.39.39.9.59 1.41.59.51 0 1.02-.2 1.41-.59l7.78-7.78 2.81-2.81c.8-.78.8-2.07 0-2.86zM5.41 20L4 18.59l7.72-7.72 1.47 1.35L5.41 20z\"/>\n",
              "  </svg>\n",
              "      </button>\n",
              "      \n",
              "  <style>\n",
              "    .colab-df-container {\n",
              "      display:flex;\n",
              "      flex-wrap:wrap;\n",
              "      gap: 12px;\n",
              "    }\n",
              "\n",
              "    .colab-df-convert {\n",
              "      background-color: #E8F0FE;\n",
              "      border: none;\n",
              "      border-radius: 50%;\n",
              "      cursor: pointer;\n",
              "      display: none;\n",
              "      fill: #1967D2;\n",
              "      height: 32px;\n",
              "      padding: 0 0 0 0;\n",
              "      width: 32px;\n",
              "    }\n",
              "\n",
              "    .colab-df-convert:hover {\n",
              "      background-color: #E2EBFA;\n",
              "      box-shadow: 0px 1px 2px rgba(60, 64, 67, 0.3), 0px 1px 3px 1px rgba(60, 64, 67, 0.15);\n",
              "      fill: #174EA6;\n",
              "    }\n",
              "\n",
              "    [theme=dark] .colab-df-convert {\n",
              "      background-color: #3B4455;\n",
              "      fill: #D2E3FC;\n",
              "    }\n",
              "\n",
              "    [theme=dark] .colab-df-convert:hover {\n",
              "      background-color: #434B5C;\n",
              "      box-shadow: 0px 1px 3px 1px rgba(0, 0, 0, 0.15);\n",
              "      filter: drop-shadow(0px 1px 2px rgba(0, 0, 0, 0.3));\n",
              "      fill: #FFFFFF;\n",
              "    }\n",
              "  </style>\n",
              "\n",
              "      <script>\n",
              "        const buttonEl =\n",
              "          document.querySelector('#df-3f7e6ed8-98eb-4603-805b-0fcf95c6e1ef button.colab-df-convert');\n",
              "        buttonEl.style.display =\n",
              "          google.colab.kernel.accessAllowed ? 'block' : 'none';\n",
              "\n",
              "        async function convertToInteractive(key) {\n",
              "          const element = document.querySelector('#df-3f7e6ed8-98eb-4603-805b-0fcf95c6e1ef');\n",
              "          const dataTable =\n",
              "            await google.colab.kernel.invokeFunction('convertToInteractive',\n",
              "                                                     [key], {});\n",
              "          if (!dataTable) return;\n",
              "\n",
              "          const docLinkHtml = 'Like what you see? Visit the ' +\n",
              "            '<a target=\"_blank\" href=https://colab.research.google.com/notebooks/data_table.ipynb>data table notebook</a>'\n",
              "            + ' to learn more about interactive tables.';\n",
              "          element.innerHTML = '';\n",
              "          dataTable['output_type'] = 'display_data';\n",
              "          await google.colab.output.renderOutput(dataTable, element);\n",
              "          const docLink = document.createElement('div');\n",
              "          docLink.innerHTML = docLinkHtml;\n",
              "          element.appendChild(docLink);\n",
              "        }\n",
              "      </script>\n",
              "    </div>\n",
              "  </div>\n",
              "  "
            ]
          },
          "metadata": {},
          "execution_count": 129
        }
      ]
    },
    {
      "cell_type": "code",
      "source": [
        "df.info()\n"
      ],
      "metadata": {
        "colab": {
          "base_uri": "https://localhost:8080/"
        },
        "id": "bXxg4wZNGddY",
        "outputId": "d2b5d5ef-d5e4-49e0-9833-ef3e7c92962a"
      },
      "execution_count": 130,
      "outputs": [
        {
          "output_type": "stream",
          "name": "stdout",
          "text": [
            "<class 'pandas.core.frame.DataFrame'>\n",
            "RangeIndex: 350 entries, 0 to 349\n",
            "Data columns (total 5 columns):\n",
            " #   Column      Non-Null Count  Dtype \n",
            "---  ------      --------------  ----- \n",
            " 0   COMMENT_ID  350 non-null    object\n",
            " 1   AUTHOR      350 non-null    object\n",
            " 2   DATE        350 non-null    object\n",
            " 3   CONTENT     350 non-null    object\n",
            " 4   CLASS       350 non-null    int64 \n",
            "dtypes: int64(1), object(4)\n",
            "memory usage: 13.8+ KB\n"
          ]
        }
      ]
    },
    {
      "cell_type": "code",
      "source": [
        "df.isnull().sum()"
      ],
      "metadata": {
        "colab": {
          "base_uri": "https://localhost:8080/"
        },
        "id": "a3gMt7yhGdhq",
        "outputId": "8c27f115-9e67-4655-c25c-ea6126086443"
      },
      "execution_count": 131,
      "outputs": [
        {
          "output_type": "execute_result",
          "data": {
            "text/plain": [
              "COMMENT_ID    0\n",
              "AUTHOR        0\n",
              "DATE          0\n",
              "CONTENT       0\n",
              "CLASS         0\n",
              "dtype: int64"
            ]
          },
          "metadata": {},
          "execution_count": 131
        }
      ]
    },
    {
      "cell_type": "code",
      "source": [
        "data=df[['CONTENT','CLASS']]\n",
        "data.head()"
      ],
      "metadata": {
        "colab": {
          "base_uri": "https://localhost:8080/",
          "height": 206
        },
        "id": "LMCeJyEsGdkZ",
        "outputId": "08d2e1b7-0650-4cc6-dcce-9437738fe657"
      },
      "execution_count": 132,
      "outputs": [
        {
          "output_type": "execute_result",
          "data": {
            "text/plain": [
              "                                             CONTENT  CLASS\n",
              "0  i love this so much. AND also I Generate Free ...      1\n",
              "1  http://www.billboard.com/articles/columns/pop-...      1\n",
              "2  Hey guys! Please join me in my fight to help a...      1\n",
              "3  http://psnboss.com/?ref=2tGgp3pV6L this is the...      1\n",
              "4  Hey everyone. Watch this trailer!!!!!!!!  http...      1"
            ],
            "text/html": [
              "\n",
              "  <div id=\"df-e68874c0-b3d2-4e3a-bc5e-3ab6c26e66ea\">\n",
              "    <div class=\"colab-df-container\">\n",
              "      <div>\n",
              "<style scoped>\n",
              "    .dataframe tbody tr th:only-of-type {\n",
              "        vertical-align: middle;\n",
              "    }\n",
              "\n",
              "    .dataframe tbody tr th {\n",
              "        vertical-align: top;\n",
              "    }\n",
              "\n",
              "    .dataframe thead th {\n",
              "        text-align: right;\n",
              "    }\n",
              "</style>\n",
              "<table border=\"1\" class=\"dataframe\">\n",
              "  <thead>\n",
              "    <tr style=\"text-align: right;\">\n",
              "      <th></th>\n",
              "      <th>CONTENT</th>\n",
              "      <th>CLASS</th>\n",
              "    </tr>\n",
              "  </thead>\n",
              "  <tbody>\n",
              "    <tr>\n",
              "      <th>0</th>\n",
              "      <td>i love this so much. AND also I Generate Free ...</td>\n",
              "      <td>1</td>\n",
              "    </tr>\n",
              "    <tr>\n",
              "      <th>1</th>\n",
              "      <td>http://www.billboard.com/articles/columns/pop-...</td>\n",
              "      <td>1</td>\n",
              "    </tr>\n",
              "    <tr>\n",
              "      <th>2</th>\n",
              "      <td>Hey guys! Please join me in my fight to help a...</td>\n",
              "      <td>1</td>\n",
              "    </tr>\n",
              "    <tr>\n",
              "      <th>3</th>\n",
              "      <td>http://psnboss.com/?ref=2tGgp3pV6L this is the...</td>\n",
              "      <td>1</td>\n",
              "    </tr>\n",
              "    <tr>\n",
              "      <th>4</th>\n",
              "      <td>Hey everyone. Watch this trailer!!!!!!!!  http...</td>\n",
              "      <td>1</td>\n",
              "    </tr>\n",
              "  </tbody>\n",
              "</table>\n",
              "</div>\n",
              "      <button class=\"colab-df-convert\" onclick=\"convertToInteractive('df-e68874c0-b3d2-4e3a-bc5e-3ab6c26e66ea')\"\n",
              "              title=\"Convert this dataframe to an interactive table.\"\n",
              "              style=\"display:none;\">\n",
              "        \n",
              "  <svg xmlns=\"http://www.w3.org/2000/svg\" height=\"24px\"viewBox=\"0 0 24 24\"\n",
              "       width=\"24px\">\n",
              "    <path d=\"M0 0h24v24H0V0z\" fill=\"none\"/>\n",
              "    <path d=\"M18.56 5.44l.94 2.06.94-2.06 2.06-.94-2.06-.94-.94-2.06-.94 2.06-2.06.94zm-11 1L8.5 8.5l.94-2.06 2.06-.94-2.06-.94L8.5 2.5l-.94 2.06-2.06.94zm10 10l.94 2.06.94-2.06 2.06-.94-2.06-.94-.94-2.06-.94 2.06-2.06.94z\"/><path d=\"M17.41 7.96l-1.37-1.37c-.4-.4-.92-.59-1.43-.59-.52 0-1.04.2-1.43.59L10.3 9.45l-7.72 7.72c-.78.78-.78 2.05 0 2.83L4 21.41c.39.39.9.59 1.41.59.51 0 1.02-.2 1.41-.59l7.78-7.78 2.81-2.81c.8-.78.8-2.07 0-2.86zM5.41 20L4 18.59l7.72-7.72 1.47 1.35L5.41 20z\"/>\n",
              "  </svg>\n",
              "      </button>\n",
              "      \n",
              "  <style>\n",
              "    .colab-df-container {\n",
              "      display:flex;\n",
              "      flex-wrap:wrap;\n",
              "      gap: 12px;\n",
              "    }\n",
              "\n",
              "    .colab-df-convert {\n",
              "      background-color: #E8F0FE;\n",
              "      border: none;\n",
              "      border-radius: 50%;\n",
              "      cursor: pointer;\n",
              "      display: none;\n",
              "      fill: #1967D2;\n",
              "      height: 32px;\n",
              "      padding: 0 0 0 0;\n",
              "      width: 32px;\n",
              "    }\n",
              "\n",
              "    .colab-df-convert:hover {\n",
              "      background-color: #E2EBFA;\n",
              "      box-shadow: 0px 1px 2px rgba(60, 64, 67, 0.3), 0px 1px 3px 1px rgba(60, 64, 67, 0.15);\n",
              "      fill: #174EA6;\n",
              "    }\n",
              "\n",
              "    [theme=dark] .colab-df-convert {\n",
              "      background-color: #3B4455;\n",
              "      fill: #D2E3FC;\n",
              "    }\n",
              "\n",
              "    [theme=dark] .colab-df-convert:hover {\n",
              "      background-color: #434B5C;\n",
              "      box-shadow: 0px 1px 3px 1px rgba(0, 0, 0, 0.15);\n",
              "      filter: drop-shadow(0px 1px 2px rgba(0, 0, 0, 0.3));\n",
              "      fill: #FFFFFF;\n",
              "    }\n",
              "  </style>\n",
              "\n",
              "      <script>\n",
              "        const buttonEl =\n",
              "          document.querySelector('#df-e68874c0-b3d2-4e3a-bc5e-3ab6c26e66ea button.colab-df-convert');\n",
              "        buttonEl.style.display =\n",
              "          google.colab.kernel.accessAllowed ? 'block' : 'none';\n",
              "\n",
              "        async function convertToInteractive(key) {\n",
              "          const element = document.querySelector('#df-e68874c0-b3d2-4e3a-bc5e-3ab6c26e66ea');\n",
              "          const dataTable =\n",
              "            await google.colab.kernel.invokeFunction('convertToInteractive',\n",
              "                                                     [key], {});\n",
              "          if (!dataTable) return;\n",
              "\n",
              "          const docLinkHtml = 'Like what you see? Visit the ' +\n",
              "            '<a target=\"_blank\" href=https://colab.research.google.com/notebooks/data_table.ipynb>data table notebook</a>'\n",
              "            + ' to learn more about interactive tables.';\n",
              "          element.innerHTML = '';\n",
              "          dataTable['output_type'] = 'display_data';\n",
              "          await google.colab.output.renderOutput(dataTable, element);\n",
              "          const docLink = document.createElement('div');\n",
              "          docLink.innerHTML = docLinkHtml;\n",
              "          element.appendChild(docLink);\n",
              "        }\n",
              "      </script>\n",
              "    </div>\n",
              "  </div>\n",
              "  "
            ]
          },
          "metadata": {},
          "execution_count": 132
        }
      ]
    },
    {
      "cell_type": "code",
      "source": [
        "len(data)\n",
        "len(data.query('CLASS==1'))\n",
        "len(data.query('CLASS==0'))"
      ],
      "metadata": {
        "colab": {
          "base_uri": "https://localhost:8080/"
        },
        "id": "9nchSa3pGdm4",
        "outputId": "234ead31-3824-4225-b597-65faa2f40e75"
      },
      "execution_count": 133,
      "outputs": [
        {
          "output_type": "execute_result",
          "data": {
            "text/plain": [
              "175"
            ]
          },
          "metadata": {},
          "execution_count": 133
        }
      ]
    },
    {
      "cell_type": "code",
      "source": [
        "fracdata=data.sample(frac=1)"
      ],
      "metadata": {
        "id": "o3QX7IeUGdqr"
      },
      "execution_count": 134,
      "outputs": []
    },
    {
      "cell_type": "code",
      "source": [
        "train=fracdata.sample(frac=0.75,random_state=26)\n",
        "test=data.drop(train.index)"
      ],
      "metadata": {
        "id": "QQhMhAvWGdw1"
      },
      "execution_count": 135,
      "outputs": []
    },
    {
      "cell_type": "code",
      "source": [
        "x_train=np.array(train['CONTENT'])\n",
        "y_train=np.array(train['CLASS'])"
      ],
      "metadata": {
        "id": "LyiuNSQfGd0E"
      },
      "execution_count": 136,
      "outputs": []
    },
    {
      "cell_type": "code",
      "source": [
        "count_vectorizer=CountVectorizer()\n",
        "X_train=count_vectorizer.fit_transform(x_train)"
      ],
      "metadata": {
        "id": "gmQQ9Xi7Gd6f"
      },
      "execution_count": 137,
      "outputs": []
    },
    {
      "cell_type": "code",
      "source": [
        "print('\\nDimensions of training data:',X_train.shape)"
      ],
      "metadata": {
        "colab": {
          "base_uri": "https://localhost:8080/"
        },
        "id": "a229ZcKpGd9r",
        "outputId": "daf4c6aa-efdd-4b54-8ffa-19665d504925"
      },
      "execution_count": 138,
      "outputs": [
        {
          "output_type": "stream",
          "name": "stdout",
          "text": [
            "\n",
            "Dimensions of training data: (262, 1472)\n"
          ]
        }
      ]
    },
    {
      "cell_type": "code",
      "source": [
        "tfidf=TfidfTransformer()\n",
        "train_tfidf=tfidf.fit_transform(X_train)\n",
        "classifier=MultinomialNB().fit(train_tfidf,y_train)"
      ],
      "metadata": {
        "id": "RHIwMBsUGeA0"
      },
      "execution_count": 139,
      "outputs": []
    },
    {
      "cell_type": "code",
      "source": [
        "scores=cross_val_score(classifier,X_train,y_train,cv=5)\n",
        "scores"
      ],
      "metadata": {
        "colab": {
          "base_uri": "https://localhost:8080/"
        },
        "id": "5FEBxr6XKJ-8",
        "outputId": "04a200a9-67e9-4987-aac6-cc0bfbb9ad8c"
      },
      "execution_count": 140,
      "outputs": [
        {
          "output_type": "execute_result",
          "data": {
            "text/plain": [
              "array([0.90566038, 0.86792453, 1.        , 0.96153846, 0.92307692])"
            ]
          },
          "metadata": {},
          "execution_count": 140
        }
      ]
    },
    {
      "cell_type": "code",
      "source": [
        "scores2=cross_val_score(classifier,X_train,y_train)\n",
        "print(\"Accuracy mean:\",scores2.mean())"
      ],
      "metadata": {
        "colab": {
          "base_uri": "https://localhost:8080/"
        },
        "id": "Oiwny6vWKbOX",
        "outputId": "59b6f270-2720-45e2-b740-0468e8227fea"
      },
      "execution_count": 141,
      "outputs": [
        {
          "output_type": "stream",
          "name": "stdout",
          "text": [
            "Accuracy mean: 0.9316400580551525\n"
          ]
        }
      ]
    },
    {
      "cell_type": "code",
      "source": [
        "input_data=np.array(test['CONTENT'])\n",
        "\n",
        "input_tc=count_vectorizer.transform(input_data)\n",
        "type(input_tc)\n",
        "print(input_tc)"
      ],
      "metadata": {
        "colab": {
          "base_uri": "https://localhost:8080/"
        },
        "id": "amUvdtOHKw6p",
        "outputId": "00a181a3-bca3-4980-dcb3-3edb8ea56bcb"
      },
      "execution_count": 142,
      "outputs": [
        {
          "output_type": "stream",
          "name": "stdout",
          "text": [
            "  (0, 326)\t1\n",
            "  (0, 508)\t1\n",
            "  (0, 514)\t1\n",
            "  (0, 553)\t1\n",
            "  (0, 618)\t1\n",
            "  (0, 650)\t1\n",
            "  (0, 680)\t1\n",
            "  (0, 818)\t1\n",
            "  (0, 964)\t1\n",
            "  (0, 1034)\t2\n",
            "  (0, 1040)\t1\n",
            "  (0, 1084)\t1\n",
            "  (0, 1355)\t1\n",
            "  (0, 1392)\t1\n",
            "  (0, 1410)\t1\n",
            "  (0, 1447)\t1\n",
            "  (1, 326)\t1\n",
            "  (1, 680)\t1\n",
            "  (1, 730)\t1\n",
            "  (1, 1090)\t1\n",
            "  (1, 1203)\t1\n",
            "  (1, 1291)\t1\n",
            "  (1, 1304)\t1\n",
            "  (2, 326)\t1\n",
            "  (2, 492)\t1\n",
            "  :\t:\n",
            "  (84, 1463)\t1\n",
            "  (85, 310)\t1\n",
            "  (85, 327)\t1\n",
            "  (85, 963)\t1\n",
            "  (85, 988)\t1\n",
            "  (85, 989)\t1\n",
            "  (85, 1304)\t1\n",
            "  (86, 169)\t1\n",
            "  (86, 1034)\t1\n",
            "  (86, 1250)\t1\n",
            "  (86, 1287)\t1\n",
            "  (86, 1313)\t1\n",
            "  (86, 1355)\t1\n",
            "  (86, 1459)\t1\n",
            "  (87, 249)\t1\n",
            "  (87, 543)\t1\n",
            "  (87, 597)\t1\n",
            "  (87, 730)\t1\n",
            "  (87, 756)\t1\n",
            "  (87, 981)\t1\n",
            "  (87, 1085)\t1\n",
            "  (87, 1275)\t1\n",
            "  (87, 1291)\t1\n",
            "  (87, 1313)\t1\n",
            "  (87, 1426)\t1\n"
          ]
        }
      ]
    },
    {
      "cell_type": "code",
      "source": [
        "input_tfidf=tfidf.transform(input_tc)\n",
        "type(input_tfidf)\n",
        "print(input_tfidf)"
      ],
      "metadata": {
        "colab": {
          "base_uri": "https://localhost:8080/"
        },
        "id": "ZBdBscVcLPWJ",
        "outputId": "9cf87ba2-c567-4df4-be0b-5da106e72f86"
      },
      "execution_count": 143,
      "outputs": [
        {
          "output_type": "stream",
          "name": "stdout",
          "text": [
            "  (0, 1447)\t0.14990928316168292\n",
            "  (0, 1410)\t0.25278429383866213\n",
            "  (0, 1392)\t0.24548795589309308\n",
            "  (0, 1355)\t0.2990818079170654\n",
            "  (0, 1084)\t0.2833624659688231\n",
            "  (0, 1040)\t0.26120729784133545\n",
            "  (0, 1034)\t0.3465308176328071\n",
            "  (0, 964)\t0.2990818079170654\n",
            "  (0, 818)\t0.21895914473091682\n",
            "  (0, 680)\t0.1548801055597146\n",
            "  (0, 650)\t0.21490978376293218\n",
            "  (0, 618)\t0.24548795589309308\n",
            "  (0, 553)\t0.1790224515106302\n",
            "  (0, 514)\t0.2990818079170654\n",
            "  (0, 508)\t0.2990818079170654\n",
            "  (0, 326)\t0.12855181340371521\n",
            "  (1, 1304)\t0.3163486485650894\n",
            "  (1, 1291)\t0.29895789522807176\n",
            "  (1, 1203)\t0.38566307079776135\n",
            "  (1, 1090)\t0.5697785181492199\n",
            "  (1, 730)\t0.32711818526363057\n",
            "  (1, 680)\t0.36915528484202803\n",
            "  (1, 326)\t0.30640204642494295\n",
            "  (2, 1403)\t0.4822452844362567\n",
            "  (2, 1304)\t0.27435629280270907\n",
            "  :\t:\n",
            "  (84, 815)\t0.5002497048170762\n",
            "  (85, 1304)\t0.2643475437624856\n",
            "  (85, 989)\t0.3565580534504964\n",
            "  (85, 988)\t0.5034691179425599\n",
            "  (85, 963)\t0.3222681239439832\n",
            "  (85, 327)\t0.5643714988495546\n",
            "  (85, 310)\t0.3565580534504964\n",
            "  (86, 1459)\t0.27669315709285935\n",
            "  (86, 1355)\t0.5735996877527613\n",
            "  (86, 1313)\t0.27465823920854854\n",
            "  (86, 1287)\t0.4374413557397995\n",
            "  (86, 1250)\t0.38583229321412627\n",
            "  (86, 1034)\t0.33230033310151313\n",
            "  (86, 169)\t0.26142329101489564\n",
            "  (87, 1426)\t0.28517216909038123\n",
            "  (87, 1313)\t0.17905231136910632\n",
            "  (87, 1291)\t0.15682048120428477\n",
            "  (87, 1275)\t0.4016351722820182\n",
            "  (87, 1085)\t0.37393507723882974\n",
            "  (87, 981)\t0.30692792178633993\n",
            "  (87, 756)\t0.17159216077762254\n",
            "  (87, 730)\t0.17159216077762254\n",
            "  (87, 597)\t0.37393507723882974\n",
            "  (87, 543)\t0.3265814519909906\n",
            "  (87, 249)\t0.4016351722820182\n"
          ]
        }
      ]
    },
    {
      "cell_type": "code",
      "source": [
        "predictions=classifier.predict(input_tfidf)"
      ],
      "metadata": {
        "id": "2mZuyJv6LeWK"
      },
      "execution_count": 144,
      "outputs": []
    },
    {
      "cell_type": "code",
      "source": [
        "confusion_matrix=confusion_matrix(np.array(test['CLASS']),predictions)\n",
        "confusion_matrix"
      ],
      "metadata": {
        "colab": {
          "base_uri": "https://localhost:8080/"
        },
        "id": "dYryZE1yLl_0",
        "outputId": "a44d8fb4-2664-4b33-c076-fe3aa791aea9"
      },
      "execution_count": 145,
      "outputs": [
        {
          "output_type": "execute_result",
          "data": {
            "text/plain": [
              "array([[38,  1],\n",
              "       [12, 37]])"
            ]
          },
          "metadata": {},
          "execution_count": 145
        }
      ]
    },
    {
      "cell_type": "code",
      "source": [
        "df=pd.read_csv('Youtube01-Psy.csv')\n",
        "df.head()"
      ],
      "metadata": {
        "colab": {
          "base_uri": "https://localhost:8080/",
          "height": 406
        },
        "id": "QYm0bgpmL5AF",
        "outputId": "a6fa7cd1-1117-47d8-b587-760040097e10"
      },
      "execution_count": 146,
      "outputs": [
        {
          "output_type": "execute_result",
          "data": {
            "text/plain": [
              "                                    COMMENT_ID            AUTHOR  \\\n",
              "0  LZQPQhLyRh80UYxNuaDWhIGQYNQ96IuCg-AYWqNPjpU         Julius NM   \n",
              "1  LZQPQhLyRh_C2cTtd9MvFRJedxydaVW-2sNg5Diuo4A       adam riyati   \n",
              "2  LZQPQhLyRh9MSZYnf8djyk0gEF9BHDPYrrK-qCczIY8  Evgeny Murashkin   \n",
              "3          z13jhp0bxqncu512g22wvzkasxmvvzjaz04   ElNino Melendez   \n",
              "4          z13fwbwp1oujthgqj04chlngpvzmtt3r3dw            GsMega   \n",
              "\n",
              "                  DATE                                            CONTENT  \\\n",
              "0  2013-11-07T06:20:48  Huh, anyway check out this you[tube] channel: ...   \n",
              "1  2013-11-07T12:37:15  Hey guys check out my new channel and our firs...   \n",
              "2  2013-11-08T17:34:21             just for test I have to say murdev.com   \n",
              "3  2013-11-09T08:28:43   me shaking my sexy ass on my channel enjoy ^_^ ﻿   \n",
              "4  2013-11-10T16:05:38            watch?v=vtaRGgvGtWQ   Check this out .﻿   \n",
              "\n",
              "   CLASS  \n",
              "0      1  \n",
              "1      1  \n",
              "2      1  \n",
              "3      1  \n",
              "4      1  "
            ],
            "text/html": [
              "\n",
              "  <div id=\"df-bddffc36-13e9-4954-80a8-edc02fcb3a47\">\n",
              "    <div class=\"colab-df-container\">\n",
              "      <div>\n",
              "<style scoped>\n",
              "    .dataframe tbody tr th:only-of-type {\n",
              "        vertical-align: middle;\n",
              "    }\n",
              "\n",
              "    .dataframe tbody tr th {\n",
              "        vertical-align: top;\n",
              "    }\n",
              "\n",
              "    .dataframe thead th {\n",
              "        text-align: right;\n",
              "    }\n",
              "</style>\n",
              "<table border=\"1\" class=\"dataframe\">\n",
              "  <thead>\n",
              "    <tr style=\"text-align: right;\">\n",
              "      <th></th>\n",
              "      <th>COMMENT_ID</th>\n",
              "      <th>AUTHOR</th>\n",
              "      <th>DATE</th>\n",
              "      <th>CONTENT</th>\n",
              "      <th>CLASS</th>\n",
              "    </tr>\n",
              "  </thead>\n",
              "  <tbody>\n",
              "    <tr>\n",
              "      <th>0</th>\n",
              "      <td>LZQPQhLyRh80UYxNuaDWhIGQYNQ96IuCg-AYWqNPjpU</td>\n",
              "      <td>Julius NM</td>\n",
              "      <td>2013-11-07T06:20:48</td>\n",
              "      <td>Huh, anyway check out this you[tube] channel: ...</td>\n",
              "      <td>1</td>\n",
              "    </tr>\n",
              "    <tr>\n",
              "      <th>1</th>\n",
              "      <td>LZQPQhLyRh_C2cTtd9MvFRJedxydaVW-2sNg5Diuo4A</td>\n",
              "      <td>adam riyati</td>\n",
              "      <td>2013-11-07T12:37:15</td>\n",
              "      <td>Hey guys check out my new channel and our firs...</td>\n",
              "      <td>1</td>\n",
              "    </tr>\n",
              "    <tr>\n",
              "      <th>2</th>\n",
              "      <td>LZQPQhLyRh9MSZYnf8djyk0gEF9BHDPYrrK-qCczIY8</td>\n",
              "      <td>Evgeny Murashkin</td>\n",
              "      <td>2013-11-08T17:34:21</td>\n",
              "      <td>just for test I have to say murdev.com</td>\n",
              "      <td>1</td>\n",
              "    </tr>\n",
              "    <tr>\n",
              "      <th>3</th>\n",
              "      <td>z13jhp0bxqncu512g22wvzkasxmvvzjaz04</td>\n",
              "      <td>ElNino Melendez</td>\n",
              "      <td>2013-11-09T08:28:43</td>\n",
              "      <td>me shaking my sexy ass on my channel enjoy ^_^ ﻿</td>\n",
              "      <td>1</td>\n",
              "    </tr>\n",
              "    <tr>\n",
              "      <th>4</th>\n",
              "      <td>z13fwbwp1oujthgqj04chlngpvzmtt3r3dw</td>\n",
              "      <td>GsMega</td>\n",
              "      <td>2013-11-10T16:05:38</td>\n",
              "      <td>watch?v=vtaRGgvGtWQ   Check this out .﻿</td>\n",
              "      <td>1</td>\n",
              "    </tr>\n",
              "  </tbody>\n",
              "</table>\n",
              "</div>\n",
              "      <button class=\"colab-df-convert\" onclick=\"convertToInteractive('df-bddffc36-13e9-4954-80a8-edc02fcb3a47')\"\n",
              "              title=\"Convert this dataframe to an interactive table.\"\n",
              "              style=\"display:none;\">\n",
              "        \n",
              "  <svg xmlns=\"http://www.w3.org/2000/svg\" height=\"24px\"viewBox=\"0 0 24 24\"\n",
              "       width=\"24px\">\n",
              "    <path d=\"M0 0h24v24H0V0z\" fill=\"none\"/>\n",
              "    <path d=\"M18.56 5.44l.94 2.06.94-2.06 2.06-.94-2.06-.94-.94-2.06-.94 2.06-2.06.94zm-11 1L8.5 8.5l.94-2.06 2.06-.94-2.06-.94L8.5 2.5l-.94 2.06-2.06.94zm10 10l.94 2.06.94-2.06 2.06-.94-2.06-.94-.94-2.06-.94 2.06-2.06.94z\"/><path d=\"M17.41 7.96l-1.37-1.37c-.4-.4-.92-.59-1.43-.59-.52 0-1.04.2-1.43.59L10.3 9.45l-7.72 7.72c-.78.78-.78 2.05 0 2.83L4 21.41c.39.39.9.59 1.41.59.51 0 1.02-.2 1.41-.59l7.78-7.78 2.81-2.81c.8-.78.8-2.07 0-2.86zM5.41 20L4 18.59l7.72-7.72 1.47 1.35L5.41 20z\"/>\n",
              "  </svg>\n",
              "      </button>\n",
              "      \n",
              "  <style>\n",
              "    .colab-df-container {\n",
              "      display:flex;\n",
              "      flex-wrap:wrap;\n",
              "      gap: 12px;\n",
              "    }\n",
              "\n",
              "    .colab-df-convert {\n",
              "      background-color: #E8F0FE;\n",
              "      border: none;\n",
              "      border-radius: 50%;\n",
              "      cursor: pointer;\n",
              "      display: none;\n",
              "      fill: #1967D2;\n",
              "      height: 32px;\n",
              "      padding: 0 0 0 0;\n",
              "      width: 32px;\n",
              "    }\n",
              "\n",
              "    .colab-df-convert:hover {\n",
              "      background-color: #E2EBFA;\n",
              "      box-shadow: 0px 1px 2px rgba(60, 64, 67, 0.3), 0px 1px 3px 1px rgba(60, 64, 67, 0.15);\n",
              "      fill: #174EA6;\n",
              "    }\n",
              "\n",
              "    [theme=dark] .colab-df-convert {\n",
              "      background-color: #3B4455;\n",
              "      fill: #D2E3FC;\n",
              "    }\n",
              "\n",
              "    [theme=dark] .colab-df-convert:hover {\n",
              "      background-color: #434B5C;\n",
              "      box-shadow: 0px 1px 3px 1px rgba(0, 0, 0, 0.15);\n",
              "      filter: drop-shadow(0px 1px 2px rgba(0, 0, 0, 0.3));\n",
              "      fill: #FFFFFF;\n",
              "    }\n",
              "  </style>\n",
              "\n",
              "      <script>\n",
              "        const buttonEl =\n",
              "          document.querySelector('#df-bddffc36-13e9-4954-80a8-edc02fcb3a47 button.colab-df-convert');\n",
              "        buttonEl.style.display =\n",
              "          google.colab.kernel.accessAllowed ? 'block' : 'none';\n",
              "\n",
              "        async function convertToInteractive(key) {\n",
              "          const element = document.querySelector('#df-bddffc36-13e9-4954-80a8-edc02fcb3a47');\n",
              "          const dataTable =\n",
              "            await google.colab.kernel.invokeFunction('convertToInteractive',\n",
              "                                                     [key], {});\n",
              "          if (!dataTable) return;\n",
              "\n",
              "          const docLinkHtml = 'Like what you see? Visit the ' +\n",
              "            '<a target=\"_blank\" href=https://colab.research.google.com/notebooks/data_table.ipynb>data table notebook</a>'\n",
              "            + ' to learn more about interactive tables.';\n",
              "          element.innerHTML = '';\n",
              "          dataTable['output_type'] = 'display_data';\n",
              "          await google.colab.output.renderOutput(dataTable, element);\n",
              "          const docLink = document.createElement('div');\n",
              "          docLink.innerHTML = docLinkHtml;\n",
              "          element.appendChild(docLink);\n",
              "        }\n",
              "      </script>\n",
              "    </div>\n",
              "  </div>\n",
              "  "
            ]
          },
          "metadata": {},
          "execution_count": 146
        }
      ]
    },
    {
      "cell_type": "code",
      "source": [
        "df.info()"
      ],
      "metadata": {
        "colab": {
          "base_uri": "https://localhost:8080/"
        },
        "id": "EPC8uZYMMktA",
        "outputId": "560d2825-3e97-4f8a-b413-3791cc473593"
      },
      "execution_count": 147,
      "outputs": [
        {
          "output_type": "stream",
          "name": "stdout",
          "text": [
            "<class 'pandas.core.frame.DataFrame'>\n",
            "RangeIndex: 350 entries, 0 to 349\n",
            "Data columns (total 5 columns):\n",
            " #   Column      Non-Null Count  Dtype \n",
            "---  ------      --------------  ----- \n",
            " 0   COMMENT_ID  350 non-null    object\n",
            " 1   AUTHOR      350 non-null    object\n",
            " 2   DATE        350 non-null    object\n",
            " 3   CONTENT     350 non-null    object\n",
            " 4   CLASS       350 non-null    int64 \n",
            "dtypes: int64(1), object(4)\n",
            "memory usage: 13.8+ KB\n"
          ]
        }
      ]
    },
    {
      "cell_type": "code",
      "source": [
        "df.isnull().sum()"
      ],
      "metadata": {
        "colab": {
          "base_uri": "https://localhost:8080/"
        },
        "id": "PWRBVi_4Ms0V",
        "outputId": "e77944ba-e134-46a0-c0b1-c8e2bc72b713"
      },
      "execution_count": 148,
      "outputs": [
        {
          "output_type": "execute_result",
          "data": {
            "text/plain": [
              "COMMENT_ID    0\n",
              "AUTHOR        0\n",
              "DATE          0\n",
              "CONTENT       0\n",
              "CLASS         0\n",
              "dtype: int64"
            ]
          },
          "metadata": {},
          "execution_count": 148
        }
      ]
    },
    {
      "cell_type": "code",
      "source": [
        "data=df[['CONTENT','CLASS']]\n",
        "data.head()"
      ],
      "metadata": {
        "colab": {
          "base_uri": "https://localhost:8080/",
          "height": 206
        },
        "id": "WhcFYVt1MzW7",
        "outputId": "1120e940-da11-4554-eb53-f3197d09ab23"
      },
      "execution_count": 149,
      "outputs": [
        {
          "output_type": "execute_result",
          "data": {
            "text/plain": [
              "                                             CONTENT  CLASS\n",
              "0  Huh, anyway check out this you[tube] channel: ...      1\n",
              "1  Hey guys check out my new channel and our firs...      1\n",
              "2             just for test I have to say murdev.com      1\n",
              "3   me shaking my sexy ass on my channel enjoy ^_^ ﻿      1\n",
              "4            watch?v=vtaRGgvGtWQ   Check this out .﻿      1"
            ],
            "text/html": [
              "\n",
              "  <div id=\"df-f7af3e7c-33d1-44e2-a137-272b42ba0307\">\n",
              "    <div class=\"colab-df-container\">\n",
              "      <div>\n",
              "<style scoped>\n",
              "    .dataframe tbody tr th:only-of-type {\n",
              "        vertical-align: middle;\n",
              "    }\n",
              "\n",
              "    .dataframe tbody tr th {\n",
              "        vertical-align: top;\n",
              "    }\n",
              "\n",
              "    .dataframe thead th {\n",
              "        text-align: right;\n",
              "    }\n",
              "</style>\n",
              "<table border=\"1\" class=\"dataframe\">\n",
              "  <thead>\n",
              "    <tr style=\"text-align: right;\">\n",
              "      <th></th>\n",
              "      <th>CONTENT</th>\n",
              "      <th>CLASS</th>\n",
              "    </tr>\n",
              "  </thead>\n",
              "  <tbody>\n",
              "    <tr>\n",
              "      <th>0</th>\n",
              "      <td>Huh, anyway check out this you[tube] channel: ...</td>\n",
              "      <td>1</td>\n",
              "    </tr>\n",
              "    <tr>\n",
              "      <th>1</th>\n",
              "      <td>Hey guys check out my new channel and our firs...</td>\n",
              "      <td>1</td>\n",
              "    </tr>\n",
              "    <tr>\n",
              "      <th>2</th>\n",
              "      <td>just for test I have to say murdev.com</td>\n",
              "      <td>1</td>\n",
              "    </tr>\n",
              "    <tr>\n",
              "      <th>3</th>\n",
              "      <td>me shaking my sexy ass on my channel enjoy ^_^ ﻿</td>\n",
              "      <td>1</td>\n",
              "    </tr>\n",
              "    <tr>\n",
              "      <th>4</th>\n",
              "      <td>watch?v=vtaRGgvGtWQ   Check this out .﻿</td>\n",
              "      <td>1</td>\n",
              "    </tr>\n",
              "  </tbody>\n",
              "</table>\n",
              "</div>\n",
              "      <button class=\"colab-df-convert\" onclick=\"convertToInteractive('df-f7af3e7c-33d1-44e2-a137-272b42ba0307')\"\n",
              "              title=\"Convert this dataframe to an interactive table.\"\n",
              "              style=\"display:none;\">\n",
              "        \n",
              "  <svg xmlns=\"http://www.w3.org/2000/svg\" height=\"24px\"viewBox=\"0 0 24 24\"\n",
              "       width=\"24px\">\n",
              "    <path d=\"M0 0h24v24H0V0z\" fill=\"none\"/>\n",
              "    <path d=\"M18.56 5.44l.94 2.06.94-2.06 2.06-.94-2.06-.94-.94-2.06-.94 2.06-2.06.94zm-11 1L8.5 8.5l.94-2.06 2.06-.94-2.06-.94L8.5 2.5l-.94 2.06-2.06.94zm10 10l.94 2.06.94-2.06 2.06-.94-2.06-.94-.94-2.06-.94 2.06-2.06.94z\"/><path d=\"M17.41 7.96l-1.37-1.37c-.4-.4-.92-.59-1.43-.59-.52 0-1.04.2-1.43.59L10.3 9.45l-7.72 7.72c-.78.78-.78 2.05 0 2.83L4 21.41c.39.39.9.59 1.41.59.51 0 1.02-.2 1.41-.59l7.78-7.78 2.81-2.81c.8-.78.8-2.07 0-2.86zM5.41 20L4 18.59l7.72-7.72 1.47 1.35L5.41 20z\"/>\n",
              "  </svg>\n",
              "      </button>\n",
              "      \n",
              "  <style>\n",
              "    .colab-df-container {\n",
              "      display:flex;\n",
              "      flex-wrap:wrap;\n",
              "      gap: 12px;\n",
              "    }\n",
              "\n",
              "    .colab-df-convert {\n",
              "      background-color: #E8F0FE;\n",
              "      border: none;\n",
              "      border-radius: 50%;\n",
              "      cursor: pointer;\n",
              "      display: none;\n",
              "      fill: #1967D2;\n",
              "      height: 32px;\n",
              "      padding: 0 0 0 0;\n",
              "      width: 32px;\n",
              "    }\n",
              "\n",
              "    .colab-df-convert:hover {\n",
              "      background-color: #E2EBFA;\n",
              "      box-shadow: 0px 1px 2px rgba(60, 64, 67, 0.3), 0px 1px 3px 1px rgba(60, 64, 67, 0.15);\n",
              "      fill: #174EA6;\n",
              "    }\n",
              "\n",
              "    [theme=dark] .colab-df-convert {\n",
              "      background-color: #3B4455;\n",
              "      fill: #D2E3FC;\n",
              "    }\n",
              "\n",
              "    [theme=dark] .colab-df-convert:hover {\n",
              "      background-color: #434B5C;\n",
              "      box-shadow: 0px 1px 3px 1px rgba(0, 0, 0, 0.15);\n",
              "      filter: drop-shadow(0px 1px 2px rgba(0, 0, 0, 0.3));\n",
              "      fill: #FFFFFF;\n",
              "    }\n",
              "  </style>\n",
              "\n",
              "      <script>\n",
              "        const buttonEl =\n",
              "          document.querySelector('#df-f7af3e7c-33d1-44e2-a137-272b42ba0307 button.colab-df-convert');\n",
              "        buttonEl.style.display =\n",
              "          google.colab.kernel.accessAllowed ? 'block' : 'none';\n",
              "\n",
              "        async function convertToInteractive(key) {\n",
              "          const element = document.querySelector('#df-f7af3e7c-33d1-44e2-a137-272b42ba0307');\n",
              "          const dataTable =\n",
              "            await google.colab.kernel.invokeFunction('convertToInteractive',\n",
              "                                                     [key], {});\n",
              "          if (!dataTable) return;\n",
              "\n",
              "          const docLinkHtml = 'Like what you see? Visit the ' +\n",
              "            '<a target=\"_blank\" href=https://colab.research.google.com/notebooks/data_table.ipynb>data table notebook</a>'\n",
              "            + ' to learn more about interactive tables.';\n",
              "          element.innerHTML = '';\n",
              "          dataTable['output_type'] = 'display_data';\n",
              "          await google.colab.output.renderOutput(dataTable, element);\n",
              "          const docLink = document.createElement('div');\n",
              "          docLink.innerHTML = docLinkHtml;\n",
              "          element.appendChild(docLink);\n",
              "        }\n",
              "      </script>\n",
              "    </div>\n",
              "  </div>\n",
              "  "
            ]
          },
          "metadata": {},
          "execution_count": 149
        }
      ]
    },
    {
      "cell_type": "code",
      "source": [
        "len(data)\n",
        "len(data.query('CLASS==1'))\n",
        "len(data.query('CLASS==0'))"
      ],
      "metadata": {
        "colab": {
          "base_uri": "https://localhost:8080/"
        },
        "id": "5d4hq0kvM54x",
        "outputId": "64a587c4-8174-43c7-dccc-4aabd511b5ad"
      },
      "execution_count": 150,
      "outputs": [
        {
          "output_type": "execute_result",
          "data": {
            "text/plain": [
              "175"
            ]
          },
          "metadata": {},
          "execution_count": 150
        }
      ]
    },
    {
      "cell_type": "code",
      "source": [
        "fracdata=data.sample(frac=1)"
      ],
      "metadata": {
        "id": "fsRCWNrUNH3X"
      },
      "execution_count": 151,
      "outputs": []
    },
    {
      "cell_type": "code",
      "source": [
        "train=fracdata.sample(frac=0.75,random_state=26)\n",
        "test=data.drop(train.index)"
      ],
      "metadata": {
        "id": "X8hhL0SGNQgN"
      },
      "execution_count": 152,
      "outputs": []
    },
    {
      "cell_type": "code",
      "source": [
        "x_train=np.array(train['CONTENT'])\n",
        "y_train=np.array(train['CLASS'])"
      ],
      "metadata": {
        "id": "uytlbPG4NX9D"
      },
      "execution_count": 153,
      "outputs": []
    },
    {
      "cell_type": "code",
      "source": [
        "count_vectorizer=CountVectorizer()\n",
        "X_train=count_vectorizer.fit_transform(x_train)"
      ],
      "metadata": {
        "id": "yr43uFrGNg7b"
      },
      "execution_count": 154,
      "outputs": []
    },
    {
      "cell_type": "code",
      "source": [
        "print('\\nDimensions of training data:',X_train.shape)"
      ],
      "metadata": {
        "colab": {
          "base_uri": "https://localhost:8080/"
        },
        "id": "OMxjv3IUNqvC",
        "outputId": "06c0ae5b-2f80-49ca-a80e-f0b27111c53c"
      },
      "execution_count": 155,
      "outputs": [
        {
          "output_type": "stream",
          "name": "stdout",
          "text": [
            "\n",
            "Dimensions of training data: (262, 1111)\n"
          ]
        }
      ]
    },
    {
      "cell_type": "code",
      "source": [
        "tfidf=TfidfTransformer()\n",
        "train_tfidf=tfidf.fit_transform(X_train)\n",
        "classifier=MultinomialNB().fit(train_tfidf,y_train)"
      ],
      "metadata": {
        "id": "b0SkBE5JN2Wv"
      },
      "execution_count": 156,
      "outputs": []
    },
    {
      "cell_type": "code",
      "source": [
        "scores=cross_val_score(classifier,X_train,y_train,cv=5)\n",
        "scores"
      ],
      "metadata": {
        "colab": {
          "base_uri": "https://localhost:8080/"
        },
        "id": "-DRq98_UOA4z",
        "outputId": "69090752-2327-4459-c514-6d2703d581de"
      },
      "execution_count": 157,
      "outputs": [
        {
          "output_type": "execute_result",
          "data": {
            "text/plain": [
              "array([0.96226415, 0.94339623, 0.98076923, 0.92307692, 0.96153846])"
            ]
          },
          "metadata": {},
          "execution_count": 157
        }
      ]
    },
    {
      "cell_type": "code",
      "source": [
        "scores2=cross_val_score(classifier,X_train,y_train)\n",
        "print(\"Accuracy mean:\",scores2.mean())"
      ],
      "metadata": {
        "colab": {
          "base_uri": "https://localhost:8080/"
        },
        "id": "_3NCv2oYOJwA",
        "outputId": "3d5fff4b-9a56-4928-e47b-3174cbee8759"
      },
      "execution_count": 158,
      "outputs": [
        {
          "output_type": "stream",
          "name": "stdout",
          "text": [
            "Accuracy mean: 0.9542089985486213\n"
          ]
        }
      ]
    },
    {
      "cell_type": "code",
      "source": [
        "input_data=np.array(test['CONTENT'])\n",
        "\n",
        "input_tc=count_vectorizer.transform(input_data)\n",
        "type(input_tc)\n",
        "print(input_tc)"
      ],
      "metadata": {
        "colab": {
          "base_uri": "https://localhost:8080/"
        },
        "id": "wcPAAkL_OTHB",
        "outputId": "bb725b77-b591-48db-f2b1-4c88458e0a01"
      },
      "execution_count": 159,
      "outputs": [
        {
          "output_type": "stream",
          "name": "stdout",
          "text": [
            "  (0, 139)\t1\n",
            "  (0, 217)\t1\n",
            "  (0, 332)\t1\n",
            "  (0, 616)\t1\n",
            "  (0, 656)\t2\n",
            "  (0, 694)\t1\n",
            "  (0, 825)\t1\n",
            "  (1, 135)\t1\n",
            "  (1, 198)\t1\n",
            "  (1, 219)\t1\n",
            "  (1, 506)\t1\n",
            "  (1, 509)\t1\n",
            "  (1, 533)\t1\n",
            "  (1, 694)\t2\n",
            "  (1, 860)\t1\n",
            "  (1, 929)\t1\n",
            "  (1, 952)\t1\n",
            "  (1, 1014)\t1\n",
            "  (1, 1030)\t1\n",
            "  (2, 238)\t1\n",
            "  (2, 481)\t1\n",
            "  (2, 574)\t1\n",
            "  (2, 740)\t1\n",
            "  (3, 6)\t1\n",
            "  (3, 84)\t1\n",
            "  :\t:\n",
            "  (85, 243)\t1\n",
            "  (85, 357)\t1\n",
            "  (85, 481)\t1\n",
            "  (85, 574)\t1\n",
            "  (85, 740)\t1\n",
            "  (85, 754)\t1\n",
            "  (85, 1082)\t1\n",
            "  (86, 107)\t1\n",
            "  (86, 116)\t1\n",
            "  (86, 133)\t1\n",
            "  (86, 152)\t1\n",
            "  (86, 506)\t1\n",
            "  (86, 689)\t1\n",
            "  (86, 719)\t1\n",
            "  (86, 876)\t1\n",
            "  (86, 943)\t1\n",
            "  (86, 1084)\t1\n",
            "  (86, 1089)\t1\n",
            "  (87, 31)\t1\n",
            "  (87, 306)\t1\n",
            "  (87, 500)\t1\n",
            "  (87, 680)\t1\n",
            "  (87, 943)\t1\n",
            "  (87, 1037)\t1\n",
            "  (87, 1058)\t1\n"
          ]
        }
      ]
    },
    {
      "cell_type": "code",
      "source": [
        "input_tfidf=tfidf.transform(input_tc)\n",
        "type(input_tfidf)\n",
        "print(input_tfidf)"
      ],
      "metadata": {
        "colab": {
          "base_uri": "https://localhost:8080/"
        },
        "id": "VJcG6gFmOcjV",
        "outputId": "6dd23bbd-d81f-4d4f-e4eb-0ab60d71f7f5"
      },
      "execution_count": 160,
      "outputs": [
        {
          "output_type": "stream",
          "name": "stdout",
          "text": [
            "  (0, 825)\t0.4490248530168538\n",
            "  (0, 694)\t0.2718704358046526\n",
            "  (0, 656)\t0.43645047366567613\n",
            "  (0, 616)\t0.24986325968450598\n",
            "  (0, 332)\t0.4254247040910842\n",
            "  (0, 217)\t0.24073880667082515\n",
            "  (0, 139)\t0.4822873947317529\n",
            "  (1, 1030)\t0.38174976127730026\n",
            "  (1, 1014)\t0.2010927171932024\n",
            "  (1, 952)\t0.16206256021948878\n",
            "  (1, 929)\t0.16511755486952306\n",
            "  (1, 860)\t0.3461224528424594\n",
            "  (1, 694)\t0.4622749643788031\n",
            "  (1, 533)\t0.2494359624096214\n",
            "  (1, 509)\t0.22352142560433635\n",
            "  (1, 506)\t0.20467014544809653\n",
            "  (1, 219)\t0.1944453506264376\n",
            "  (1, 198)\t0.3226553447019402\n",
            "  (1, 135)\t0.3616855016756538\n",
            "  (2, 740)\t0.5012730172298818\n",
            "  (2, 574)\t0.5012730172298818\n",
            "  (2, 481)\t0.5471886984390439\n",
            "  (2, 238)\t0.4450115197330137\n",
            "  (3, 1056)\t0.29419323692340593\n",
            "  (3, 1030)\t0.31051340859557125\n",
            "  :\t:\n",
            "  (85, 740)\t0.23388972558632234\n",
            "  (85, 574)\t0.23388972558632234\n",
            "  (85, 481)\t0.255313591840817\n",
            "  (85, 357)\t0.29799197887115253\n",
            "  (85, 243)\t0.31231745821712087\n",
            "  (85, 238)\t0.20763858946226607\n",
            "  (85, 113)\t0.6095919637254698\n",
            "  (86, 1089)\t0.34284185762666625\n",
            "  (86, 1084)\t0.37192113320445974\n",
            "  (86, 943)\t0.17420517909988845\n",
            "  (86, 876)\t0.3222097832599012\n",
            "  (86, 719)\t0.26017362193366433\n",
            "  (86, 689)\t0.34284185762666625\n",
            "  (86, 506)\t0.21046227198910586\n",
            "  (86, 152)\t0.3222097832599012\n",
            "  (86, 133)\t0.26017362193366433\n",
            "  (86, 116)\t0.17651887387672882\n",
            "  (86, 107)\t0.42163248314901824\n",
            "  (87, 1058)\t0.37049802191077463\n",
            "  (87, 1037)\t0.44985691680709833\n",
            "  (87, 943)\t0.22018409060689006\n",
            "  (87, 680)\t0.40725234736588795\n",
            "  (87, 500)\t0.3039656831337416\n",
            "  (87, 306)\t0.40725234736588795\n",
            "  (87, 31)\t0.433329956282297\n"
          ]
        }
      ]
    },
    {
      "cell_type": "code",
      "source": [],
      "metadata": {
        "id": "ZH4MJt87OyKp"
      },
      "execution_count": 160,
      "outputs": []
    },
    {
      "cell_type": "code",
      "source": [],
      "metadata": {
        "id": "w3pw-etsOyOt"
      },
      "execution_count": 160,
      "outputs": []
    },
    {
      "cell_type": "code",
      "source": [
        "df=pd.read_csv('Youtube03-LMFAO.csv')\n",
        "df.head()"
      ],
      "metadata": {
        "colab": {
          "base_uri": "https://localhost:8080/",
          "height": 374
        },
        "id": "amOEjlDuMhuE",
        "outputId": "a82e1894-aea4-47a7-d33c-04e759791501"
      },
      "execution_count": 161,
      "outputs": [
        {
          "output_type": "execute_result",
          "data": {
            "text/plain": [
              "                              COMMENT_ID        AUTHOR  \\\n",
              "0  z13uwn2heqndtr5g304ccv5j5kqqzxjadmc0k  Corey Wilson   \n",
              "1  z124jvczaz3dxhnbc04cffk43oiugj25yzo0k   Epic Gaming   \n",
              "2      z13tczjy5xj0vjmu5231unho1ofey5zdk     LaS Music   \n",
              "3  z13tzr0hdpnayhqqc04cd3zqqqjkf3ngckk0k    Cheryl Fox   \n",
              "4  z12pcvix4zedcjvyb04ccr1r0mr2g5xwyng0k    PATRICK_TW   \n",
              "\n",
              "                         DATE  \\\n",
              "0  2015-05-28T21:39:52.376000   \n",
              "1  2015-05-28T20:07:20.610000   \n",
              "2  2015-05-28T19:23:35.355000   \n",
              "3  2015-05-28T17:49:35.294000   \n",
              "4  2015-05-28T16:28:26.818000   \n",
              "\n",
              "                                             CONTENT  CLASS  \n",
              "0  <a href=\"http://www.youtube.com/watch?v=KQ6zr6...      0  \n",
              "1                                   wierd but funny﻿      0  \n",
              "2  Hey guys, I&#39;m a human.<br /><br /><br />Bu...      1  \n",
              "3       Party Rock....lol...who wants to shuffle!!!﻿      0  \n",
              "4                                        Party rock﻿      0  "
            ],
            "text/html": [
              "\n",
              "  <div id=\"df-bf23b55f-e595-424b-bc58-33d4b33d0187\">\n",
              "    <div class=\"colab-df-container\">\n",
              "      <div>\n",
              "<style scoped>\n",
              "    .dataframe tbody tr th:only-of-type {\n",
              "        vertical-align: middle;\n",
              "    }\n",
              "\n",
              "    .dataframe tbody tr th {\n",
              "        vertical-align: top;\n",
              "    }\n",
              "\n",
              "    .dataframe thead th {\n",
              "        text-align: right;\n",
              "    }\n",
              "</style>\n",
              "<table border=\"1\" class=\"dataframe\">\n",
              "  <thead>\n",
              "    <tr style=\"text-align: right;\">\n",
              "      <th></th>\n",
              "      <th>COMMENT_ID</th>\n",
              "      <th>AUTHOR</th>\n",
              "      <th>DATE</th>\n",
              "      <th>CONTENT</th>\n",
              "      <th>CLASS</th>\n",
              "    </tr>\n",
              "  </thead>\n",
              "  <tbody>\n",
              "    <tr>\n",
              "      <th>0</th>\n",
              "      <td>z13uwn2heqndtr5g304ccv5j5kqqzxjadmc0k</td>\n",
              "      <td>Corey Wilson</td>\n",
              "      <td>2015-05-28T21:39:52.376000</td>\n",
              "      <td>&lt;a href=\"http://www.youtube.com/watch?v=KQ6zr6...</td>\n",
              "      <td>0</td>\n",
              "    </tr>\n",
              "    <tr>\n",
              "      <th>1</th>\n",
              "      <td>z124jvczaz3dxhnbc04cffk43oiugj25yzo0k</td>\n",
              "      <td>Epic Gaming</td>\n",
              "      <td>2015-05-28T20:07:20.610000</td>\n",
              "      <td>wierd but funny﻿</td>\n",
              "      <td>0</td>\n",
              "    </tr>\n",
              "    <tr>\n",
              "      <th>2</th>\n",
              "      <td>z13tczjy5xj0vjmu5231unho1ofey5zdk</td>\n",
              "      <td>LaS Music</td>\n",
              "      <td>2015-05-28T19:23:35.355000</td>\n",
              "      <td>Hey guys, I&amp;#39;m a human.&lt;br /&gt;&lt;br /&gt;&lt;br /&gt;Bu...</td>\n",
              "      <td>1</td>\n",
              "    </tr>\n",
              "    <tr>\n",
              "      <th>3</th>\n",
              "      <td>z13tzr0hdpnayhqqc04cd3zqqqjkf3ngckk0k</td>\n",
              "      <td>Cheryl Fox</td>\n",
              "      <td>2015-05-28T17:49:35.294000</td>\n",
              "      <td>Party Rock....lol...who wants to shuffle!!!﻿</td>\n",
              "      <td>0</td>\n",
              "    </tr>\n",
              "    <tr>\n",
              "      <th>4</th>\n",
              "      <td>z12pcvix4zedcjvyb04ccr1r0mr2g5xwyng0k</td>\n",
              "      <td>PATRICK_TW</td>\n",
              "      <td>2015-05-28T16:28:26.818000</td>\n",
              "      <td>Party rock﻿</td>\n",
              "      <td>0</td>\n",
              "    </tr>\n",
              "  </tbody>\n",
              "</table>\n",
              "</div>\n",
              "      <button class=\"colab-df-convert\" onclick=\"convertToInteractive('df-bf23b55f-e595-424b-bc58-33d4b33d0187')\"\n",
              "              title=\"Convert this dataframe to an interactive table.\"\n",
              "              style=\"display:none;\">\n",
              "        \n",
              "  <svg xmlns=\"http://www.w3.org/2000/svg\" height=\"24px\"viewBox=\"0 0 24 24\"\n",
              "       width=\"24px\">\n",
              "    <path d=\"M0 0h24v24H0V0z\" fill=\"none\"/>\n",
              "    <path d=\"M18.56 5.44l.94 2.06.94-2.06 2.06-.94-2.06-.94-.94-2.06-.94 2.06-2.06.94zm-11 1L8.5 8.5l.94-2.06 2.06-.94-2.06-.94L8.5 2.5l-.94 2.06-2.06.94zm10 10l.94 2.06.94-2.06 2.06-.94-2.06-.94-.94-2.06-.94 2.06-2.06.94z\"/><path d=\"M17.41 7.96l-1.37-1.37c-.4-.4-.92-.59-1.43-.59-.52 0-1.04.2-1.43.59L10.3 9.45l-7.72 7.72c-.78.78-.78 2.05 0 2.83L4 21.41c.39.39.9.59 1.41.59.51 0 1.02-.2 1.41-.59l7.78-7.78 2.81-2.81c.8-.78.8-2.07 0-2.86zM5.41 20L4 18.59l7.72-7.72 1.47 1.35L5.41 20z\"/>\n",
              "  </svg>\n",
              "      </button>\n",
              "      \n",
              "  <style>\n",
              "    .colab-df-container {\n",
              "      display:flex;\n",
              "      flex-wrap:wrap;\n",
              "      gap: 12px;\n",
              "    }\n",
              "\n",
              "    .colab-df-convert {\n",
              "      background-color: #E8F0FE;\n",
              "      border: none;\n",
              "      border-radius: 50%;\n",
              "      cursor: pointer;\n",
              "      display: none;\n",
              "      fill: #1967D2;\n",
              "      height: 32px;\n",
              "      padding: 0 0 0 0;\n",
              "      width: 32px;\n",
              "    }\n",
              "\n",
              "    .colab-df-convert:hover {\n",
              "      background-color: #E2EBFA;\n",
              "      box-shadow: 0px 1px 2px rgba(60, 64, 67, 0.3), 0px 1px 3px 1px rgba(60, 64, 67, 0.15);\n",
              "      fill: #174EA6;\n",
              "    }\n",
              "\n",
              "    [theme=dark] .colab-df-convert {\n",
              "      background-color: #3B4455;\n",
              "      fill: #D2E3FC;\n",
              "    }\n",
              "\n",
              "    [theme=dark] .colab-df-convert:hover {\n",
              "      background-color: #434B5C;\n",
              "      box-shadow: 0px 1px 3px 1px rgba(0, 0, 0, 0.15);\n",
              "      filter: drop-shadow(0px 1px 2px rgba(0, 0, 0, 0.3));\n",
              "      fill: #FFFFFF;\n",
              "    }\n",
              "  </style>\n",
              "\n",
              "      <script>\n",
              "        const buttonEl =\n",
              "          document.querySelector('#df-bf23b55f-e595-424b-bc58-33d4b33d0187 button.colab-df-convert');\n",
              "        buttonEl.style.display =\n",
              "          google.colab.kernel.accessAllowed ? 'block' : 'none';\n",
              "\n",
              "        async function convertToInteractive(key) {\n",
              "          const element = document.querySelector('#df-bf23b55f-e595-424b-bc58-33d4b33d0187');\n",
              "          const dataTable =\n",
              "            await google.colab.kernel.invokeFunction('convertToInteractive',\n",
              "                                                     [key], {});\n",
              "          if (!dataTable) return;\n",
              "\n",
              "          const docLinkHtml = 'Like what you see? Visit the ' +\n",
              "            '<a target=\"_blank\" href=https://colab.research.google.com/notebooks/data_table.ipynb>data table notebook</a>'\n",
              "            + ' to learn more about interactive tables.';\n",
              "          element.innerHTML = '';\n",
              "          dataTable['output_type'] = 'display_data';\n",
              "          await google.colab.output.renderOutput(dataTable, element);\n",
              "          const docLink = document.createElement('div');\n",
              "          docLink.innerHTML = docLinkHtml;\n",
              "          element.appendChild(docLink);\n",
              "        }\n",
              "      </script>\n",
              "    </div>\n",
              "  </div>\n",
              "  "
            ]
          },
          "metadata": {},
          "execution_count": 161
        }
      ]
    },
    {
      "cell_type": "code",
      "source": [
        "df.info()"
      ],
      "metadata": {
        "colab": {
          "base_uri": "https://localhost:8080/"
        },
        "id": "laJiWGNaMnvo",
        "outputId": "33c8ea71-141f-4707-8c30-dfec9840fb67"
      },
      "execution_count": 162,
      "outputs": [
        {
          "output_type": "stream",
          "name": "stdout",
          "text": [
            "<class 'pandas.core.frame.DataFrame'>\n",
            "RangeIndex: 438 entries, 0 to 437\n",
            "Data columns (total 5 columns):\n",
            " #   Column      Non-Null Count  Dtype \n",
            "---  ------      --------------  ----- \n",
            " 0   COMMENT_ID  438 non-null    object\n",
            " 1   AUTHOR      438 non-null    object\n",
            " 2   DATE        438 non-null    object\n",
            " 3   CONTENT     438 non-null    object\n",
            " 4   CLASS       438 non-null    int64 \n",
            "dtypes: int64(1), object(4)\n",
            "memory usage: 17.2+ KB\n"
          ]
        }
      ]
    },
    {
      "cell_type": "code",
      "source": [
        "df.isnull().sum()"
      ],
      "metadata": {
        "colab": {
          "base_uri": "https://localhost:8080/"
        },
        "id": "JR0DRR1QMtqO",
        "outputId": "00aa68e7-7f94-4c30-f567-77bf54b1f082"
      },
      "execution_count": 163,
      "outputs": [
        {
          "output_type": "execute_result",
          "data": {
            "text/plain": [
              "COMMENT_ID    0\n",
              "AUTHOR        0\n",
              "DATE          0\n",
              "CONTENT       0\n",
              "CLASS         0\n",
              "dtype: int64"
            ]
          },
          "metadata": {},
          "execution_count": 163
        }
      ]
    },
    {
      "cell_type": "code",
      "source": [
        "data=df[['CONTENT','CLASS']]\n",
        "data.head()"
      ],
      "metadata": {
        "colab": {
          "base_uri": "https://localhost:8080/",
          "height": 206
        },
        "id": "0bLR1mHEM0bY",
        "outputId": "dcb9080f-ff1b-4a34-f942-d1e14519b1b3"
      },
      "execution_count": 164,
      "outputs": [
        {
          "output_type": "execute_result",
          "data": {
            "text/plain": [
              "                                             CONTENT  CLASS\n",
              "0  <a href=\"http://www.youtube.com/watch?v=KQ6zr6...      0\n",
              "1                                   wierd but funny﻿      0\n",
              "2  Hey guys, I&#39;m a human.<br /><br /><br />Bu...      1\n",
              "3       Party Rock....lol...who wants to shuffle!!!﻿      0\n",
              "4                                        Party rock﻿      0"
            ],
            "text/html": [
              "\n",
              "  <div id=\"df-5f784df0-74d0-4407-9ded-6acc13dc0eae\">\n",
              "    <div class=\"colab-df-container\">\n",
              "      <div>\n",
              "<style scoped>\n",
              "    .dataframe tbody tr th:only-of-type {\n",
              "        vertical-align: middle;\n",
              "    }\n",
              "\n",
              "    .dataframe tbody tr th {\n",
              "        vertical-align: top;\n",
              "    }\n",
              "\n",
              "    .dataframe thead th {\n",
              "        text-align: right;\n",
              "    }\n",
              "</style>\n",
              "<table border=\"1\" class=\"dataframe\">\n",
              "  <thead>\n",
              "    <tr style=\"text-align: right;\">\n",
              "      <th></th>\n",
              "      <th>CONTENT</th>\n",
              "      <th>CLASS</th>\n",
              "    </tr>\n",
              "  </thead>\n",
              "  <tbody>\n",
              "    <tr>\n",
              "      <th>0</th>\n",
              "      <td>&lt;a href=\"http://www.youtube.com/watch?v=KQ6zr6...</td>\n",
              "      <td>0</td>\n",
              "    </tr>\n",
              "    <tr>\n",
              "      <th>1</th>\n",
              "      <td>wierd but funny﻿</td>\n",
              "      <td>0</td>\n",
              "    </tr>\n",
              "    <tr>\n",
              "      <th>2</th>\n",
              "      <td>Hey guys, I&amp;#39;m a human.&lt;br /&gt;&lt;br /&gt;&lt;br /&gt;Bu...</td>\n",
              "      <td>1</td>\n",
              "    </tr>\n",
              "    <tr>\n",
              "      <th>3</th>\n",
              "      <td>Party Rock....lol...who wants to shuffle!!!﻿</td>\n",
              "      <td>0</td>\n",
              "    </tr>\n",
              "    <tr>\n",
              "      <th>4</th>\n",
              "      <td>Party rock﻿</td>\n",
              "      <td>0</td>\n",
              "    </tr>\n",
              "  </tbody>\n",
              "</table>\n",
              "</div>\n",
              "      <button class=\"colab-df-convert\" onclick=\"convertToInteractive('df-5f784df0-74d0-4407-9ded-6acc13dc0eae')\"\n",
              "              title=\"Convert this dataframe to an interactive table.\"\n",
              "              style=\"display:none;\">\n",
              "        \n",
              "  <svg xmlns=\"http://www.w3.org/2000/svg\" height=\"24px\"viewBox=\"0 0 24 24\"\n",
              "       width=\"24px\">\n",
              "    <path d=\"M0 0h24v24H0V0z\" fill=\"none\"/>\n",
              "    <path d=\"M18.56 5.44l.94 2.06.94-2.06 2.06-.94-2.06-.94-.94-2.06-.94 2.06-2.06.94zm-11 1L8.5 8.5l.94-2.06 2.06-.94-2.06-.94L8.5 2.5l-.94 2.06-2.06.94zm10 10l.94 2.06.94-2.06 2.06-.94-2.06-.94-.94-2.06-.94 2.06-2.06.94z\"/><path d=\"M17.41 7.96l-1.37-1.37c-.4-.4-.92-.59-1.43-.59-.52 0-1.04.2-1.43.59L10.3 9.45l-7.72 7.72c-.78.78-.78 2.05 0 2.83L4 21.41c.39.39.9.59 1.41.59.51 0 1.02-.2 1.41-.59l7.78-7.78 2.81-2.81c.8-.78.8-2.07 0-2.86zM5.41 20L4 18.59l7.72-7.72 1.47 1.35L5.41 20z\"/>\n",
              "  </svg>\n",
              "      </button>\n",
              "      \n",
              "  <style>\n",
              "    .colab-df-container {\n",
              "      display:flex;\n",
              "      flex-wrap:wrap;\n",
              "      gap: 12px;\n",
              "    }\n",
              "\n",
              "    .colab-df-convert {\n",
              "      background-color: #E8F0FE;\n",
              "      border: none;\n",
              "      border-radius: 50%;\n",
              "      cursor: pointer;\n",
              "      display: none;\n",
              "      fill: #1967D2;\n",
              "      height: 32px;\n",
              "      padding: 0 0 0 0;\n",
              "      width: 32px;\n",
              "    }\n",
              "\n",
              "    .colab-df-convert:hover {\n",
              "      background-color: #E2EBFA;\n",
              "      box-shadow: 0px 1px 2px rgba(60, 64, 67, 0.3), 0px 1px 3px 1px rgba(60, 64, 67, 0.15);\n",
              "      fill: #174EA6;\n",
              "    }\n",
              "\n",
              "    [theme=dark] .colab-df-convert {\n",
              "      background-color: #3B4455;\n",
              "      fill: #D2E3FC;\n",
              "    }\n",
              "\n",
              "    [theme=dark] .colab-df-convert:hover {\n",
              "      background-color: #434B5C;\n",
              "      box-shadow: 0px 1px 3px 1px rgba(0, 0, 0, 0.15);\n",
              "      filter: drop-shadow(0px 1px 2px rgba(0, 0, 0, 0.3));\n",
              "      fill: #FFFFFF;\n",
              "    }\n",
              "  </style>\n",
              "\n",
              "      <script>\n",
              "        const buttonEl =\n",
              "          document.querySelector('#df-5f784df0-74d0-4407-9ded-6acc13dc0eae button.colab-df-convert');\n",
              "        buttonEl.style.display =\n",
              "          google.colab.kernel.accessAllowed ? 'block' : 'none';\n",
              "\n",
              "        async function convertToInteractive(key) {\n",
              "          const element = document.querySelector('#df-5f784df0-74d0-4407-9ded-6acc13dc0eae');\n",
              "          const dataTable =\n",
              "            await google.colab.kernel.invokeFunction('convertToInteractive',\n",
              "                                                     [key], {});\n",
              "          if (!dataTable) return;\n",
              "\n",
              "          const docLinkHtml = 'Like what you see? Visit the ' +\n",
              "            '<a target=\"_blank\" href=https://colab.research.google.com/notebooks/data_table.ipynb>data table notebook</a>'\n",
              "            + ' to learn more about interactive tables.';\n",
              "          element.innerHTML = '';\n",
              "          dataTable['output_type'] = 'display_data';\n",
              "          await google.colab.output.renderOutput(dataTable, element);\n",
              "          const docLink = document.createElement('div');\n",
              "          docLink.innerHTML = docLinkHtml;\n",
              "          element.appendChild(docLink);\n",
              "        }\n",
              "      </script>\n",
              "    </div>\n",
              "  </div>\n",
              "  "
            ]
          },
          "metadata": {},
          "execution_count": 164
        }
      ]
    },
    {
      "cell_type": "code",
      "source": [
        "len(data)\n",
        "len(data.query('CLASS==1'))\n",
        "len(data.query('CLASS==0'))"
      ],
      "metadata": {
        "colab": {
          "base_uri": "https://localhost:8080/"
        },
        "id": "PBymIQ30M_lJ",
        "outputId": "3b309ff3-4b72-4cf7-f8c6-2d4b44d30a7f"
      },
      "execution_count": 165,
      "outputs": [
        {
          "output_type": "execute_result",
          "data": {
            "text/plain": [
              "202"
            ]
          },
          "metadata": {},
          "execution_count": 165
        }
      ]
    },
    {
      "cell_type": "code",
      "source": [
        "fracdata=data.sample(frac=1)"
      ],
      "metadata": {
        "id": "UssBRD9tNI2U"
      },
      "execution_count": 166,
      "outputs": []
    },
    {
      "cell_type": "code",
      "source": [
        "train=fracdata.sample(frac=0.75,random_state=26)\n",
        "test=data.drop(train.index)"
      ],
      "metadata": {
        "id": "RXKW7ehjNRLl"
      },
      "execution_count": 167,
      "outputs": []
    },
    {
      "cell_type": "code",
      "source": [
        "x_train=np.array(train['CONTENT'])\n",
        "y_train=np.array(train['CLASS'])"
      ],
      "metadata": {
        "id": "YZH4R88pNZNu"
      },
      "execution_count": 168,
      "outputs": []
    },
    {
      "cell_type": "code",
      "source": [
        "count_vectorizer=CountVectorizer()\n",
        "X_train=count_vectorizer.fit_transform(x_train)"
      ],
      "metadata": {
        "id": "aVGGYG9RNiam"
      },
      "execution_count": 169,
      "outputs": []
    },
    {
      "cell_type": "code",
      "source": [
        "print('\\nDimensions of training data:',X_train.shape)"
      ],
      "metadata": {
        "colab": {
          "base_uri": "https://localhost:8080/"
        },
        "id": "sYNi8dw6NskY",
        "outputId": "25b77343-ca1b-423c-c0dd-347dafac93c2"
      },
      "execution_count": 170,
      "outputs": [
        {
          "output_type": "stream",
          "name": "stdout",
          "text": [
            "\n",
            "Dimensions of training data: (328, 806)\n"
          ]
        }
      ]
    },
    {
      "cell_type": "code",
      "source": [
        "tfidf=TfidfTransformer()\n",
        "train_tfidf=tfidf.fit_transform(X_train)\n",
        "classifier=MultinomialNB().fit(train_tfidf,y_train)"
      ],
      "metadata": {
        "id": "RD9L_bWYN3i1"
      },
      "execution_count": 171,
      "outputs": []
    },
    {
      "cell_type": "code",
      "source": [
        "scores=cross_val_score(classifier,X_train,y_train,cv=5)\n",
        "scores"
      ],
      "metadata": {
        "colab": {
          "base_uri": "https://localhost:8080/"
        },
        "id": "UR6w0eq3OCkY",
        "outputId": "118ce20b-90e5-4909-f892-d05eb5383f8c"
      },
      "execution_count": 172,
      "outputs": [
        {
          "output_type": "execute_result",
          "data": {
            "text/plain": [
              "array([0.90909091, 0.89393939, 0.83333333, 0.96923077, 0.98461538])"
            ]
          },
          "metadata": {},
          "execution_count": 172
        }
      ]
    },
    {
      "cell_type": "code",
      "source": [
        "scores2=cross_val_score(classifier,X_train,y_train)\n",
        "print(\"Accuracy mean:\",scores2.mean())"
      ],
      "metadata": {
        "colab": {
          "base_uri": "https://localhost:8080/"
        },
        "id": "2zwiAjQ7OLmI",
        "outputId": "006c0a5e-be54-46f3-d607-f9be36c7823f"
      },
      "execution_count": 173,
      "outputs": [
        {
          "output_type": "stream",
          "name": "stdout",
          "text": [
            "Accuracy mean: 0.9180419580419581\n"
          ]
        }
      ]
    },
    {
      "cell_type": "code",
      "source": [
        "input_data=np.array(test['CONTENT'])\n",
        "\n",
        "input_tc=count_vectorizer.transform(input_data)\n",
        "type(input_tc)\n",
        "print(input_tc)"
      ],
      "metadata": {
        "colab": {
          "base_uri": "https://localhost:8080/"
        },
        "id": "GvYcrQ9TOU4O",
        "outputId": "3c2500f3-b4c5-4691-a031-fb446a112d82"
      },
      "execution_count": 174,
      "outputs": [
        {
          "output_type": "stream",
          "name": "stdout",
          "text": [
            "  (0, 28)\t2\n",
            "  (0, 73)\t1\n",
            "  (0, 100)\t2\n",
            "  (0, 122)\t9\n",
            "  (0, 130)\t1\n",
            "  (0, 134)\t1\n",
            "  (0, 146)\t1\n",
            "  (0, 151)\t1\n",
            "  (0, 157)\t1\n",
            "  (0, 207)\t1\n",
            "  (0, 221)\t1\n",
            "  (0, 260)\t1\n",
            "  (0, 266)\t1\n",
            "  (0, 280)\t2\n",
            "  (0, 303)\t1\n",
            "  (0, 311)\t1\n",
            "  (0, 317)\t1\n",
            "  (0, 319)\t1\n",
            "  (0, 333)\t1\n",
            "  (0, 348)\t1\n",
            "  (0, 350)\t1\n",
            "  (0, 358)\t1\n",
            "  (0, 359)\t1\n",
            "  (0, 404)\t1\n",
            "  (0, 432)\t1\n",
            "  :\t:\n",
            "  (106, 711)\t1\n",
            "  (106, 747)\t2\n",
            "  (107, 427)\t1\n",
            "  (107, 433)\t1\n",
            "  (107, 437)\t1\n",
            "  (107, 632)\t1\n",
            "  (107, 800)\t1\n",
            "  (108, 63)\t1\n",
            "  (108, 90)\t1\n",
            "  (108, 134)\t1\n",
            "  (108, 145)\t1\n",
            "  (108, 237)\t1\n",
            "  (108, 296)\t1\n",
            "  (108, 380)\t1\n",
            "  (108, 420)\t1\n",
            "  (108, 462)\t2\n",
            "  (108, 500)\t1\n",
            "  (108, 534)\t1\n",
            "  (108, 662)\t1\n",
            "  (108, 711)\t1\n",
            "  (108, 742)\t1\n",
            "  (108, 799)\t1\n",
            "  (109, 427)\t1\n",
            "  (109, 632)\t1\n",
            "  (109, 700)\t1\n"
          ]
        }
      ]
    },
    {
      "cell_type": "code",
      "source": [
        "input_tfidf=tfidf.transform(input_tc)\n",
        "type(input_tfidf)\n",
        "print(input_tfidf)"
      ],
      "metadata": {
        "colab": {
          "base_uri": "https://localhost:8080/"
        },
        "id": "cMQ_vh0UOfTV",
        "outputId": "dc8075f7-f5f3-487c-f0e2-04165bd378c1"
      },
      "execution_count": 175,
      "outputs": [
        {
          "output_type": "stream",
          "name": "stdout",
          "text": [
            "  (0, 799)\t0.06780252946360385\n",
            "  (0, 774)\t0.0936283446388529\n",
            "  (0, 748)\t0.21119036565176805\n",
            "  (0, 711)\t0.2510271811024594\n",
            "  (0, 700)\t0.03648586971066745\n",
            "  (0, 687)\t0.18827038582684458\n",
            "  (0, 632)\t0.06484674682473371\n",
            "  (0, 627)\t0.07951645567495645\n",
            "  (0, 603)\t0.12425008531918966\n",
            "  (0, 569)\t0.11013819635529319\n",
            "  (0, 540)\t0.12425008531918966\n",
            "  (0, 535)\t0.10559518282588402\n",
            "  (0, 505)\t0.043037751888943376\n",
            "  (0, 503)\t0.12425008531918966\n",
            "  (0, 501)\t0.11013819635529319\n",
            "  (0, 496)\t0.04322714071721949\n",
            "  (0, 481)\t0.11013819635529319\n",
            "  (0, 462)\t0.24344621272660324\n",
            "  (0, 460)\t0.08954285940268399\n",
            "  (0, 453)\t0.12425008531918966\n",
            "  (0, 437)\t0.07951645567495645\n",
            "  (0, 432)\t0.1159951594609695\n",
            "  (0, 404)\t0.06656826355941214\n",
            "  (0, 359)\t0.07202989089919028\n",
            "  (0, 358)\t0.10559518282588402\n",
            "  :\t:\n",
            "  (106, 159)\t0.16793098473410195\n",
            "  (106, 97)\t0.1798819819543296\n",
            "  (107, 800)\t0.4666138341289435\n",
            "  (107, 632)\t0.33792073838744213\n",
            "  (107, 437)\t0.4143655731606385\n",
            "  (107, 433)\t0.5739375135908308\n",
            "  (107, 427)\t0.40862942458859136\n",
            "  (108, 799)\t0.19360857259133274\n",
            "  (108, 742)\t0.2612284538747268\n",
            "  (108, 711)\t0.17920059398728624\n",
            "  (108, 662)\t0.17643173289785358\n",
            "  (108, 534)\t0.24166760888052916\n",
            "  (108, 500)\t0.2612284538747268\n",
            "  (108, 462)\t0.34757754704464655\n",
            "  (108, 420)\t0.2909253493627184\n",
            "  (108, 380)\t0.23765670183389473\n",
            "  (108, 296)\t0.3015246301454661\n",
            "  (108, 237)\t0.3015246301454661\n",
            "  (108, 145)\t0.2034856690103148\n",
            "  (108, 134)\t0.26735359732188624\n",
            "  (108, 90)\t0.2612284538747268\n",
            "  (108, 63)\t0.28196378515126835\n",
            "  (109, 700)\t0.3375235059022148\n",
            "  (109, 632)\t0.5998843253073998\n",
            "  (109, 427)\t0.7254079398614018\n"
          ]
        }
      ]
    },
    {
      "cell_type": "code",
      "source": [
        "predictions=classifier.predict(input_tfidf)"
      ],
      "metadata": {
        "id": "upcurwRbOnGj"
      },
      "execution_count": 176,
      "outputs": []
    },
    {
      "cell_type": "code",
      "source": [],
      "metadata": {
        "id": "h4GBLB6UOwYO"
      },
      "execution_count": 176,
      "outputs": []
    },
    {
      "cell_type": "code",
      "source": [],
      "metadata": {
        "id": "2pDDKEc3OwdD"
      },
      "execution_count": 176,
      "outputs": []
    },
    {
      "cell_type": "code",
      "source": [
        "df=pd.read_csv('Youtube04-Eminem.csv')\n",
        "df.head()"
      ],
      "metadata": {
        "colab": {
          "base_uri": "https://localhost:8080/",
          "height": 371
        },
        "id": "5iwuCK8ZMhxW",
        "outputId": "c62d145c-5067-4f71-8a07-36c51f2e9305"
      },
      "execution_count": 177,
      "outputs": [
        {
          "output_type": "execute_result",
          "data": {
            "text/plain": [
              "                            COMMENT_ID         AUTHOR  \\\n",
              "0    z12rwfnyyrbsefonb232i5ehdxzkjzjs2    Lisa Wellas   \n",
              "1  z130wpnwwnyuetxcn23xf5k5ynmkdpjrj04   jason graham   \n",
              "2    z13vsfqirtavjvu0t22ezrgzyorwxhpf3     Ajkal Khan   \n",
              "3  z12wjzc4eprnvja4304cgbbizuved35wxcs  Dakota Taylor   \n",
              "4    z13xjfr42z3uxdz2223gx5rrzs3dt5hna    Jihad Naser   \n",
              "\n",
              "                         DATE  \\\n",
              "0                         NaN   \n",
              "1  2015-05-29T02:26:10.652000   \n",
              "2                         NaN   \n",
              "3  2015-05-29T02:13:07.810000   \n",
              "4                         NaN   \n",
              "\n",
              "                                             CONTENT  CLASS  \n",
              "0          +447935454150 lovely girl talk to me xxx﻿      1  \n",
              "1    I always end up coming back to this song<br />﻿      0  \n",
              "2  my sister just received over 6,500 new <a rel=...      1  \n",
              "3                                              Cool﻿      0  \n",
              "4                     Hello I&#39;am from Palastine﻿      1  "
            ],
            "text/html": [
              "\n",
              "  <div id=\"df-8ed274ce-4e1a-41c4-961c-e8d06e6027f1\">\n",
              "    <div class=\"colab-df-container\">\n",
              "      <div>\n",
              "<style scoped>\n",
              "    .dataframe tbody tr th:only-of-type {\n",
              "        vertical-align: middle;\n",
              "    }\n",
              "\n",
              "    .dataframe tbody tr th {\n",
              "        vertical-align: top;\n",
              "    }\n",
              "\n",
              "    .dataframe thead th {\n",
              "        text-align: right;\n",
              "    }\n",
              "</style>\n",
              "<table border=\"1\" class=\"dataframe\">\n",
              "  <thead>\n",
              "    <tr style=\"text-align: right;\">\n",
              "      <th></th>\n",
              "      <th>COMMENT_ID</th>\n",
              "      <th>AUTHOR</th>\n",
              "      <th>DATE</th>\n",
              "      <th>CONTENT</th>\n",
              "      <th>CLASS</th>\n",
              "    </tr>\n",
              "  </thead>\n",
              "  <tbody>\n",
              "    <tr>\n",
              "      <th>0</th>\n",
              "      <td>z12rwfnyyrbsefonb232i5ehdxzkjzjs2</td>\n",
              "      <td>Lisa Wellas</td>\n",
              "      <td>NaN</td>\n",
              "      <td>+447935454150 lovely girl talk to me xxx﻿</td>\n",
              "      <td>1</td>\n",
              "    </tr>\n",
              "    <tr>\n",
              "      <th>1</th>\n",
              "      <td>z130wpnwwnyuetxcn23xf5k5ynmkdpjrj04</td>\n",
              "      <td>jason graham</td>\n",
              "      <td>2015-05-29T02:26:10.652000</td>\n",
              "      <td>I always end up coming back to this song&lt;br /&gt;﻿</td>\n",
              "      <td>0</td>\n",
              "    </tr>\n",
              "    <tr>\n",
              "      <th>2</th>\n",
              "      <td>z13vsfqirtavjvu0t22ezrgzyorwxhpf3</td>\n",
              "      <td>Ajkal Khan</td>\n",
              "      <td>NaN</td>\n",
              "      <td>my sister just received over 6,500 new &lt;a rel=...</td>\n",
              "      <td>1</td>\n",
              "    </tr>\n",
              "    <tr>\n",
              "      <th>3</th>\n",
              "      <td>z12wjzc4eprnvja4304cgbbizuved35wxcs</td>\n",
              "      <td>Dakota Taylor</td>\n",
              "      <td>2015-05-29T02:13:07.810000</td>\n",
              "      <td>Cool﻿</td>\n",
              "      <td>0</td>\n",
              "    </tr>\n",
              "    <tr>\n",
              "      <th>4</th>\n",
              "      <td>z13xjfr42z3uxdz2223gx5rrzs3dt5hna</td>\n",
              "      <td>Jihad Naser</td>\n",
              "      <td>NaN</td>\n",
              "      <td>Hello I&amp;#39;am from Palastine﻿</td>\n",
              "      <td>1</td>\n",
              "    </tr>\n",
              "  </tbody>\n",
              "</table>\n",
              "</div>\n",
              "      <button class=\"colab-df-convert\" onclick=\"convertToInteractive('df-8ed274ce-4e1a-41c4-961c-e8d06e6027f1')\"\n",
              "              title=\"Convert this dataframe to an interactive table.\"\n",
              "              style=\"display:none;\">\n",
              "        \n",
              "  <svg xmlns=\"http://www.w3.org/2000/svg\" height=\"24px\"viewBox=\"0 0 24 24\"\n",
              "       width=\"24px\">\n",
              "    <path d=\"M0 0h24v24H0V0z\" fill=\"none\"/>\n",
              "    <path d=\"M18.56 5.44l.94 2.06.94-2.06 2.06-.94-2.06-.94-.94-2.06-.94 2.06-2.06.94zm-11 1L8.5 8.5l.94-2.06 2.06-.94-2.06-.94L8.5 2.5l-.94 2.06-2.06.94zm10 10l.94 2.06.94-2.06 2.06-.94-2.06-.94-.94-2.06-.94 2.06-2.06.94z\"/><path d=\"M17.41 7.96l-1.37-1.37c-.4-.4-.92-.59-1.43-.59-.52 0-1.04.2-1.43.59L10.3 9.45l-7.72 7.72c-.78.78-.78 2.05 0 2.83L4 21.41c.39.39.9.59 1.41.59.51 0 1.02-.2 1.41-.59l7.78-7.78 2.81-2.81c.8-.78.8-2.07 0-2.86zM5.41 20L4 18.59l7.72-7.72 1.47 1.35L5.41 20z\"/>\n",
              "  </svg>\n",
              "      </button>\n",
              "      \n",
              "  <style>\n",
              "    .colab-df-container {\n",
              "      display:flex;\n",
              "      flex-wrap:wrap;\n",
              "      gap: 12px;\n",
              "    }\n",
              "\n",
              "    .colab-df-convert {\n",
              "      background-color: #E8F0FE;\n",
              "      border: none;\n",
              "      border-radius: 50%;\n",
              "      cursor: pointer;\n",
              "      display: none;\n",
              "      fill: #1967D2;\n",
              "      height: 32px;\n",
              "      padding: 0 0 0 0;\n",
              "      width: 32px;\n",
              "    }\n",
              "\n",
              "    .colab-df-convert:hover {\n",
              "      background-color: #E2EBFA;\n",
              "      box-shadow: 0px 1px 2px rgba(60, 64, 67, 0.3), 0px 1px 3px 1px rgba(60, 64, 67, 0.15);\n",
              "      fill: #174EA6;\n",
              "    }\n",
              "\n",
              "    [theme=dark] .colab-df-convert {\n",
              "      background-color: #3B4455;\n",
              "      fill: #D2E3FC;\n",
              "    }\n",
              "\n",
              "    [theme=dark] .colab-df-convert:hover {\n",
              "      background-color: #434B5C;\n",
              "      box-shadow: 0px 1px 3px 1px rgba(0, 0, 0, 0.15);\n",
              "      filter: drop-shadow(0px 1px 2px rgba(0, 0, 0, 0.3));\n",
              "      fill: #FFFFFF;\n",
              "    }\n",
              "  </style>\n",
              "\n",
              "      <script>\n",
              "        const buttonEl =\n",
              "          document.querySelector('#df-8ed274ce-4e1a-41c4-961c-e8d06e6027f1 button.colab-df-convert');\n",
              "        buttonEl.style.display =\n",
              "          google.colab.kernel.accessAllowed ? 'block' : 'none';\n",
              "\n",
              "        async function convertToInteractive(key) {\n",
              "          const element = document.querySelector('#df-8ed274ce-4e1a-41c4-961c-e8d06e6027f1');\n",
              "          const dataTable =\n",
              "            await google.colab.kernel.invokeFunction('convertToInteractive',\n",
              "                                                     [key], {});\n",
              "          if (!dataTable) return;\n",
              "\n",
              "          const docLinkHtml = 'Like what you see? Visit the ' +\n",
              "            '<a target=\"_blank\" href=https://colab.research.google.com/notebooks/data_table.ipynb>data table notebook</a>'\n",
              "            + ' to learn more about interactive tables.';\n",
              "          element.innerHTML = '';\n",
              "          dataTable['output_type'] = 'display_data';\n",
              "          await google.colab.output.renderOutput(dataTable, element);\n",
              "          const docLink = document.createElement('div');\n",
              "          docLink.innerHTML = docLinkHtml;\n",
              "          element.appendChild(docLink);\n",
              "        }\n",
              "      </script>\n",
              "    </div>\n",
              "  </div>\n",
              "  "
            ]
          },
          "metadata": {},
          "execution_count": 177
        }
      ]
    },
    {
      "cell_type": "code",
      "source": [
        "df.info()"
      ],
      "metadata": {
        "colab": {
          "base_uri": "https://localhost:8080/"
        },
        "id": "4hSk3k4HMoqT",
        "outputId": "90c4bfad-6c50-4d85-fdea-bb9335977229"
      },
      "execution_count": 178,
      "outputs": [
        {
          "output_type": "stream",
          "name": "stdout",
          "text": [
            "<class 'pandas.core.frame.DataFrame'>\n",
            "RangeIndex: 448 entries, 0 to 447\n",
            "Data columns (total 5 columns):\n",
            " #   Column      Non-Null Count  Dtype \n",
            "---  ------      --------------  ----- \n",
            " 0   COMMENT_ID  448 non-null    object\n",
            " 1   AUTHOR      448 non-null    object\n",
            " 2   DATE        203 non-null    object\n",
            " 3   CONTENT     448 non-null    object\n",
            " 4   CLASS       448 non-null    int64 \n",
            "dtypes: int64(1), object(4)\n",
            "memory usage: 17.6+ KB\n"
          ]
        }
      ]
    },
    {
      "cell_type": "code",
      "source": [
        "df.isnull().sum()"
      ],
      "metadata": {
        "colab": {
          "base_uri": "https://localhost:8080/"
        },
        "id": "AlK5uFUXMvX9",
        "outputId": "6e5b4ff1-c104-4b68-bb1c-f28ebf8e2916"
      },
      "execution_count": 179,
      "outputs": [
        {
          "output_type": "execute_result",
          "data": {
            "text/plain": [
              "COMMENT_ID      0\n",
              "AUTHOR          0\n",
              "DATE          245\n",
              "CONTENT         0\n",
              "CLASS           0\n",
              "dtype: int64"
            ]
          },
          "metadata": {},
          "execution_count": 179
        }
      ]
    },
    {
      "cell_type": "code",
      "source": [
        "data=df[['CONTENT','CLASS']]\n",
        "data.head()"
      ],
      "metadata": {
        "colab": {
          "base_uri": "https://localhost:8080/",
          "height": 206
        },
        "id": "nAk6r4ZKM1eG",
        "outputId": "317c3b52-c930-4d6b-e56d-6071671f4a78"
      },
      "execution_count": 180,
      "outputs": [
        {
          "output_type": "execute_result",
          "data": {
            "text/plain": [
              "                                             CONTENT  CLASS\n",
              "0          +447935454150 lovely girl talk to me xxx﻿      1\n",
              "1    I always end up coming back to this song<br />﻿      0\n",
              "2  my sister just received over 6,500 new <a rel=...      1\n",
              "3                                              Cool﻿      0\n",
              "4                     Hello I&#39;am from Palastine﻿      1"
            ],
            "text/html": [
              "\n",
              "  <div id=\"df-4dba1c4c-250d-43e4-9c5b-352de53fe07e\">\n",
              "    <div class=\"colab-df-container\">\n",
              "      <div>\n",
              "<style scoped>\n",
              "    .dataframe tbody tr th:only-of-type {\n",
              "        vertical-align: middle;\n",
              "    }\n",
              "\n",
              "    .dataframe tbody tr th {\n",
              "        vertical-align: top;\n",
              "    }\n",
              "\n",
              "    .dataframe thead th {\n",
              "        text-align: right;\n",
              "    }\n",
              "</style>\n",
              "<table border=\"1\" class=\"dataframe\">\n",
              "  <thead>\n",
              "    <tr style=\"text-align: right;\">\n",
              "      <th></th>\n",
              "      <th>CONTENT</th>\n",
              "      <th>CLASS</th>\n",
              "    </tr>\n",
              "  </thead>\n",
              "  <tbody>\n",
              "    <tr>\n",
              "      <th>0</th>\n",
              "      <td>+447935454150 lovely girl talk to me xxx﻿</td>\n",
              "      <td>1</td>\n",
              "    </tr>\n",
              "    <tr>\n",
              "      <th>1</th>\n",
              "      <td>I always end up coming back to this song&lt;br /&gt;﻿</td>\n",
              "      <td>0</td>\n",
              "    </tr>\n",
              "    <tr>\n",
              "      <th>2</th>\n",
              "      <td>my sister just received over 6,500 new &lt;a rel=...</td>\n",
              "      <td>1</td>\n",
              "    </tr>\n",
              "    <tr>\n",
              "      <th>3</th>\n",
              "      <td>Cool﻿</td>\n",
              "      <td>0</td>\n",
              "    </tr>\n",
              "    <tr>\n",
              "      <th>4</th>\n",
              "      <td>Hello I&amp;#39;am from Palastine﻿</td>\n",
              "      <td>1</td>\n",
              "    </tr>\n",
              "  </tbody>\n",
              "</table>\n",
              "</div>\n",
              "      <button class=\"colab-df-convert\" onclick=\"convertToInteractive('df-4dba1c4c-250d-43e4-9c5b-352de53fe07e')\"\n",
              "              title=\"Convert this dataframe to an interactive table.\"\n",
              "              style=\"display:none;\">\n",
              "        \n",
              "  <svg xmlns=\"http://www.w3.org/2000/svg\" height=\"24px\"viewBox=\"0 0 24 24\"\n",
              "       width=\"24px\">\n",
              "    <path d=\"M0 0h24v24H0V0z\" fill=\"none\"/>\n",
              "    <path d=\"M18.56 5.44l.94 2.06.94-2.06 2.06-.94-2.06-.94-.94-2.06-.94 2.06-2.06.94zm-11 1L8.5 8.5l.94-2.06 2.06-.94-2.06-.94L8.5 2.5l-.94 2.06-2.06.94zm10 10l.94 2.06.94-2.06 2.06-.94-2.06-.94-.94-2.06-.94 2.06-2.06.94z\"/><path d=\"M17.41 7.96l-1.37-1.37c-.4-.4-.92-.59-1.43-.59-.52 0-1.04.2-1.43.59L10.3 9.45l-7.72 7.72c-.78.78-.78 2.05 0 2.83L4 21.41c.39.39.9.59 1.41.59.51 0 1.02-.2 1.41-.59l7.78-7.78 2.81-2.81c.8-.78.8-2.07 0-2.86zM5.41 20L4 18.59l7.72-7.72 1.47 1.35L5.41 20z\"/>\n",
              "  </svg>\n",
              "      </button>\n",
              "      \n",
              "  <style>\n",
              "    .colab-df-container {\n",
              "      display:flex;\n",
              "      flex-wrap:wrap;\n",
              "      gap: 12px;\n",
              "    }\n",
              "\n",
              "    .colab-df-convert {\n",
              "      background-color: #E8F0FE;\n",
              "      border: none;\n",
              "      border-radius: 50%;\n",
              "      cursor: pointer;\n",
              "      display: none;\n",
              "      fill: #1967D2;\n",
              "      height: 32px;\n",
              "      padding: 0 0 0 0;\n",
              "      width: 32px;\n",
              "    }\n",
              "\n",
              "    .colab-df-convert:hover {\n",
              "      background-color: #E2EBFA;\n",
              "      box-shadow: 0px 1px 2px rgba(60, 64, 67, 0.3), 0px 1px 3px 1px rgba(60, 64, 67, 0.15);\n",
              "      fill: #174EA6;\n",
              "    }\n",
              "\n",
              "    [theme=dark] .colab-df-convert {\n",
              "      background-color: #3B4455;\n",
              "      fill: #D2E3FC;\n",
              "    }\n",
              "\n",
              "    [theme=dark] .colab-df-convert:hover {\n",
              "      background-color: #434B5C;\n",
              "      box-shadow: 0px 1px 3px 1px rgba(0, 0, 0, 0.15);\n",
              "      filter: drop-shadow(0px 1px 2px rgba(0, 0, 0, 0.3));\n",
              "      fill: #FFFFFF;\n",
              "    }\n",
              "  </style>\n",
              "\n",
              "      <script>\n",
              "        const buttonEl =\n",
              "          document.querySelector('#df-4dba1c4c-250d-43e4-9c5b-352de53fe07e button.colab-df-convert');\n",
              "        buttonEl.style.display =\n",
              "          google.colab.kernel.accessAllowed ? 'block' : 'none';\n",
              "\n",
              "        async function convertToInteractive(key) {\n",
              "          const element = document.querySelector('#df-4dba1c4c-250d-43e4-9c5b-352de53fe07e');\n",
              "          const dataTable =\n",
              "            await google.colab.kernel.invokeFunction('convertToInteractive',\n",
              "                                                     [key], {});\n",
              "          if (!dataTable) return;\n",
              "\n",
              "          const docLinkHtml = 'Like what you see? Visit the ' +\n",
              "            '<a target=\"_blank\" href=https://colab.research.google.com/notebooks/data_table.ipynb>data table notebook</a>'\n",
              "            + ' to learn more about interactive tables.';\n",
              "          element.innerHTML = '';\n",
              "          dataTable['output_type'] = 'display_data';\n",
              "          await google.colab.output.renderOutput(dataTable, element);\n",
              "          const docLink = document.createElement('div');\n",
              "          docLink.innerHTML = docLinkHtml;\n",
              "          element.appendChild(docLink);\n",
              "        }\n",
              "      </script>\n",
              "    </div>\n",
              "  </div>\n",
              "  "
            ]
          },
          "metadata": {},
          "execution_count": 180
        }
      ]
    },
    {
      "cell_type": "code",
      "source": [
        "len(data)\n",
        "len(data.query('CLASS==1'))\n",
        "len(data.query('CLASS==0'))"
      ],
      "metadata": {
        "colab": {
          "base_uri": "https://localhost:8080/"
        },
        "id": "lErVQJq5NAY3",
        "outputId": "fa914387-148e-4e9a-d97a-cc7d0c3a921d"
      },
      "execution_count": 181,
      "outputs": [
        {
          "output_type": "execute_result",
          "data": {
            "text/plain": [
              "203"
            ]
          },
          "metadata": {},
          "execution_count": 181
        }
      ]
    },
    {
      "cell_type": "code",
      "source": [
        "fracdata=data.sample(frac=1)"
      ],
      "metadata": {
        "id": "vyYvhJQuNJ1p"
      },
      "execution_count": 182,
      "outputs": []
    },
    {
      "cell_type": "code",
      "source": [
        "train=fracdata.sample(frac=0.75,random_state=26)\n",
        "test=data.drop(train.index)"
      ],
      "metadata": {
        "id": "qs46Cmv1NR98"
      },
      "execution_count": 183,
      "outputs": []
    },
    {
      "cell_type": "code",
      "source": [
        "x_train=np.array(train['CONTENT'])\n",
        "y_train=np.array(train['CLASS'])"
      ],
      "metadata": {
        "id": "TPfIpkMFNaU2"
      },
      "execution_count": 184,
      "outputs": []
    },
    {
      "cell_type": "code",
      "source": [
        "count_vectorizer=CountVectorizer()\n",
        "X_train=count_vectorizer.fit_transform(x_train)"
      ],
      "metadata": {
        "id": "f4n7jiXqNjn2"
      },
      "execution_count": 185,
      "outputs": []
    },
    {
      "cell_type": "code",
      "source": [
        "print('\\nDimensions of training data:',X_train.shape)"
      ],
      "metadata": {
        "colab": {
          "base_uri": "https://localhost:8080/"
        },
        "id": "gmlhEZMuNtp-",
        "outputId": "aff49a3f-ed60-44b3-f106-9e82d4159159"
      },
      "execution_count": 186,
      "outputs": [
        {
          "output_type": "stream",
          "name": "stdout",
          "text": [
            "\n",
            "Dimensions of training data: (336, 1370)\n"
          ]
        }
      ]
    },
    {
      "cell_type": "code",
      "source": [
        "tfidf=TfidfTransformer()\n",
        "train_tfidf=tfidf.fit_transform(X_train)\n",
        "classifier=MultinomialNB().fit(train_tfidf,y_train)"
      ],
      "metadata": {
        "id": "1wOcJf1kN4qp"
      },
      "execution_count": 187,
      "outputs": []
    },
    {
      "cell_type": "code",
      "source": [
        "scores=cross_val_score(classifier,X_train,y_train,cv=5)\n",
        "scores"
      ],
      "metadata": {
        "colab": {
          "base_uri": "https://localhost:8080/"
        },
        "id": "Kw_eUchCOEAO",
        "outputId": "906d461b-9735-408a-d6bd-d98f73762d69"
      },
      "execution_count": 188,
      "outputs": [
        {
          "output_type": "execute_result",
          "data": {
            "text/plain": [
              "array([0.91176471, 0.8358209 , 0.8358209 , 0.92537313, 0.94029851])"
            ]
          },
          "metadata": {},
          "execution_count": 188
        }
      ]
    },
    {
      "cell_type": "code",
      "source": [
        "scores2=cross_val_score(classifier,X_train,y_train)\n",
        "print(\"Accuracy mean:\",scores2.mean())"
      ],
      "metadata": {
        "colab": {
          "base_uri": "https://localhost:8080/"
        },
        "id": "FyLa-z-YONRy",
        "outputId": "931c66a3-764a-47a8-877a-568284752554"
      },
      "execution_count": 189,
      "outputs": [
        {
          "output_type": "stream",
          "name": "stdout",
          "text": [
            "Accuracy mean: 0.8898156277436348\n"
          ]
        }
      ]
    },
    {
      "cell_type": "code",
      "source": [
        "input_data=np.array(test['CONTENT'])\n",
        "\n",
        "input_tc=count_vectorizer.transform(input_data)\n",
        "type(input_tc)\n",
        "print(input_tc)"
      ],
      "metadata": {
        "colab": {
          "base_uri": "https://localhost:8080/"
        },
        "id": "Y0i5pSfgOWVy",
        "outputId": "73e0e351-d22c-47ca-a072-d8c165722f49"
      },
      "execution_count": 190,
      "outputs": [
        {
          "output_type": "stream",
          "name": "stdout",
          "text": [
            "  (0, 42)\t1\n",
            "  (0, 103)\t1\n",
            "  (0, 181)\t1\n",
            "  (0, 530)\t1\n",
            "  (0, 622)\t1\n",
            "  (0, 647)\t1\n",
            "  (0, 921)\t1\n",
            "  (0, 1082)\t1\n",
            "  (0, 1184)\t1\n",
            "  (0, 1254)\t1\n",
            "  (0, 1257)\t1\n",
            "  (0, 1275)\t1\n",
            "  (0, 1333)\t1\n",
            "  (1, 103)\t1\n",
            "  (1, 181)\t1\n",
            "  (2, 54)\t1\n",
            "  (2, 476)\t1\n",
            "  (2, 542)\t1\n",
            "  (2, 747)\t1\n",
            "  (2, 907)\t1\n",
            "  (3, 139)\t1\n",
            "  (3, 701)\t1\n",
            "  (3, 849)\t1\n",
            "  (3, 1151)\t1\n",
            "  (3, 1184)\t1\n",
            "  :\t:\n",
            "  (111, 844)\t1\n",
            "  (111, 849)\t1\n",
            "  (111, 857)\t1\n",
            "  (111, 865)\t1\n",
            "  (111, 885)\t1\n",
            "  (111, 958)\t1\n",
            "  (111, 973)\t1\n",
            "  (111, 1030)\t1\n",
            "  (111, 1082)\t1\n",
            "  (111, 1095)\t1\n",
            "  (111, 1110)\t1\n",
            "  (111, 1128)\t1\n",
            "  (111, 1171)\t2\n",
            "  (111, 1179)\t1\n",
            "  (111, 1181)\t2\n",
            "  (111, 1192)\t7\n",
            "  (111, 1196)\t1\n",
            "  (111, 1215)\t1\n",
            "  (111, 1245)\t4\n",
            "  (111, 1276)\t1\n",
            "  (111, 1295)\t1\n",
            "  (111, 1296)\t2\n",
            "  (111, 1313)\t1\n",
            "  (111, 1331)\t2\n",
            "  (111, 1356)\t6\n"
          ]
        }
      ]
    },
    {
      "cell_type": "code",
      "source": [
        "input_tfidf=tfidf.transform(input_tc)\n",
        "type(input_tfidf)\n",
        "print(input_tfidf)"
      ],
      "metadata": {
        "colab": {
          "base_uri": "https://localhost:8080/"
        },
        "id": "QZDaHCHVOg2n",
        "outputId": "2e52634e-4c92-4fe4-f143-9040a3fa8f1f"
      },
      "execution_count": 191,
      "outputs": [
        {
          "output_type": "stream",
          "name": "stdout",
          "text": [
            "  (0, 1333)\t0.38129319784556276\n",
            "  (0, 1275)\t0.32427033395729943\n",
            "  (0, 1257)\t0.2518848039046152\n",
            "  (0, 1254)\t0.17504383738517104\n",
            "  (0, 1184)\t0.12860256040687854\n",
            "  (0, 1082)\t0.20874867259096605\n",
            "  (0, 921)\t0.38129319784556276\n",
            "  (0, 647)\t0.23496174803899822\n",
            "  (0, 622)\t0.16276170927931766\n",
            "  (0, 530)\t0.3129240472872452\n",
            "  (0, 181)\t0.3381570665319136\n",
            "  (0, 103)\t0.35606017860089434\n",
            "  (0, 42)\t0.17067486611061394\n",
            "  (1, 181)\t0.6886423028909724\n",
            "  (1, 103)\t0.7251012196024897\n",
            "  (2, 907)\t0.3016802943437254\n",
            "  (2, 747)\t0.32924132564304237\n",
            "  (2, 542)\t0.5070953534058867\n",
            "  (2, 476)\t0.4020670224333537\n",
            "  (2, 54)\t0.6178879846050022\n",
            "  (3, 1361)\t0.31504371820660265\n",
            "  (3, 1254)\t0.29406422222187045\n",
            "  (3, 1184)\t0.21604537735639\n",
            "  (3, 1151)\t0.4833054374567635\n",
            "  (3, 849)\t0.27986659420794674\n",
            "  :\t:\n",
            "  (111, 857)\t0.08497396574304993\n",
            "  (111, 849)\t0.053457993993064896\n",
            "  (111, 844)\t0.12235339257729257\n",
            "  (111, 833)\t0.10041437670786695\n",
            "  (111, 828)\t0.08082745894900152\n",
            "  (111, 690)\t0.12235339257729257\n",
            "  (111, 675)\t0.10041437670786695\n",
            "  (111, 635)\t0.12710734783388533\n",
            "  (111, 589)\t0.12817246443958907\n",
            "  (111, 525)\t0.12235339257729257\n",
            "  (111, 514)\t0.10851141470119556\n",
            "  (111, 492)\t0.11425635458396394\n",
            "  (111, 451)\t0.06203625413542687\n",
            "  (111, 412)\t0.11425635458396394\n",
            "  (111, 331)\t0.10041437670786695\n",
            "  (111, 329)\t0.23542608251532388\n",
            "  (111, 323)\t0.12235339257729257\n",
            "  (111, 260)\t0.08497396574304993\n",
            "  (111, 212)\t0.06355367391694267\n",
            "  (111, 191)\t0.12235339257729257\n",
            "  (111, 159)\t0.08211627726464499\n",
            "  (111, 116)\t0.04504646520347889\n",
            "  (111, 108)\t0.21702282940239112\n",
            "  (111, 103)\t0.11425635458396394\n",
            "  (111, 94)\t0.11425635458396394\n"
          ]
        }
      ]
    },
    {
      "cell_type": "code",
      "source": [
        "predictions=classifier.predict(input_tfidf)"
      ],
      "metadata": {
        "id": "u2fxmLALOo6r"
      },
      "execution_count": 192,
      "outputs": []
    },
    {
      "cell_type": "code",
      "source": [],
      "metadata": {
        "id": "I02XvpR0OqRf"
      },
      "execution_count": 192,
      "outputs": []
    },
    {
      "cell_type": "code",
      "source": [],
      "metadata": {
        "id": "-OzWU9RiOufV"
      },
      "execution_count": 192,
      "outputs": []
    },
    {
      "cell_type": "code",
      "source": [
        "df=pd.read_csv('Youtube05-Shakira.csv')\n",
        "df.head()"
      ],
      "metadata": {
        "colab": {
          "base_uri": "https://localhost:8080/",
          "height": 371
        },
        "id": "1P1HZ-SpMh0s",
        "outputId": "0f9759db-81ea-4809-dd1e-020f3170ca1a"
      },
      "execution_count": 193,
      "outputs": [
        {
          "output_type": "execute_result",
          "data": {
            "text/plain": [
              "                              COMMENT_ID                              AUTHOR  \\\n",
              "0    z13lgffb5w3ddx1ul22qy1wxspy5cpkz504                          dharma pal   \n",
              "1      z123dbgb0mqjfxbtz22ucjc5jvzcv3ykj                       Tiza Arellano   \n",
              "2  z12quxxp2vutflkxv04cihggzt2azl34pms0k  Prìñçeśś Âliś Łøvê Dømíñø Mâđiś™ ﻿   \n",
              "3      z12icv3ysqvlwth2c23eddlykyqut5z1h                       Eric Gonzalez   \n",
              "4      z133stly3kete3tly22petvwdpmghrlli                       Analena López   \n",
              "\n",
              "                         DATE  \\\n",
              "0  2015-05-29T02:30:18.971000   \n",
              "1  2015-05-29T00:14:48.748000   \n",
              "2  2015-05-28T21:00:08.607000   \n",
              "3  2015-05-28T20:47:12.193000   \n",
              "4  2015-05-28T17:08:29.827000   \n",
              "\n",
              "                                             CONTENT  CLASS  \n",
              "0                                         Nice song﻿      0  \n",
              "1                                      I love song ﻿      0  \n",
              "2                                      I love song ﻿      0  \n",
              "3  860,000,000 lets make it first female to reach...      0  \n",
              "4                      shakira is best for worldcup﻿      0  "
            ],
            "text/html": [
              "\n",
              "  <div id=\"df-218afffe-2561-4cfa-8c1c-fd995b6d0823\">\n",
              "    <div class=\"colab-df-container\">\n",
              "      <div>\n",
              "<style scoped>\n",
              "    .dataframe tbody tr th:only-of-type {\n",
              "        vertical-align: middle;\n",
              "    }\n",
              "\n",
              "    .dataframe tbody tr th {\n",
              "        vertical-align: top;\n",
              "    }\n",
              "\n",
              "    .dataframe thead th {\n",
              "        text-align: right;\n",
              "    }\n",
              "</style>\n",
              "<table border=\"1\" class=\"dataframe\">\n",
              "  <thead>\n",
              "    <tr style=\"text-align: right;\">\n",
              "      <th></th>\n",
              "      <th>COMMENT_ID</th>\n",
              "      <th>AUTHOR</th>\n",
              "      <th>DATE</th>\n",
              "      <th>CONTENT</th>\n",
              "      <th>CLASS</th>\n",
              "    </tr>\n",
              "  </thead>\n",
              "  <tbody>\n",
              "    <tr>\n",
              "      <th>0</th>\n",
              "      <td>z13lgffb5w3ddx1ul22qy1wxspy5cpkz504</td>\n",
              "      <td>dharma pal</td>\n",
              "      <td>2015-05-29T02:30:18.971000</td>\n",
              "      <td>Nice song﻿</td>\n",
              "      <td>0</td>\n",
              "    </tr>\n",
              "    <tr>\n",
              "      <th>1</th>\n",
              "      <td>z123dbgb0mqjfxbtz22ucjc5jvzcv3ykj</td>\n",
              "      <td>Tiza Arellano</td>\n",
              "      <td>2015-05-29T00:14:48.748000</td>\n",
              "      <td>I love song ﻿</td>\n",
              "      <td>0</td>\n",
              "    </tr>\n",
              "    <tr>\n",
              "      <th>2</th>\n",
              "      <td>z12quxxp2vutflkxv04cihggzt2azl34pms0k</td>\n",
              "      <td>Prìñçeśś Âliś Łøvê Dømíñø Mâđiś™ ﻿</td>\n",
              "      <td>2015-05-28T21:00:08.607000</td>\n",
              "      <td>I love song ﻿</td>\n",
              "      <td>0</td>\n",
              "    </tr>\n",
              "    <tr>\n",
              "      <th>3</th>\n",
              "      <td>z12icv3ysqvlwth2c23eddlykyqut5z1h</td>\n",
              "      <td>Eric Gonzalez</td>\n",
              "      <td>2015-05-28T20:47:12.193000</td>\n",
              "      <td>860,000,000 lets make it first female to reach...</td>\n",
              "      <td>0</td>\n",
              "    </tr>\n",
              "    <tr>\n",
              "      <th>4</th>\n",
              "      <td>z133stly3kete3tly22petvwdpmghrlli</td>\n",
              "      <td>Analena López</td>\n",
              "      <td>2015-05-28T17:08:29.827000</td>\n",
              "      <td>shakira is best for worldcup﻿</td>\n",
              "      <td>0</td>\n",
              "    </tr>\n",
              "  </tbody>\n",
              "</table>\n",
              "</div>\n",
              "      <button class=\"colab-df-convert\" onclick=\"convertToInteractive('df-218afffe-2561-4cfa-8c1c-fd995b6d0823')\"\n",
              "              title=\"Convert this dataframe to an interactive table.\"\n",
              "              style=\"display:none;\">\n",
              "        \n",
              "  <svg xmlns=\"http://www.w3.org/2000/svg\" height=\"24px\"viewBox=\"0 0 24 24\"\n",
              "       width=\"24px\">\n",
              "    <path d=\"M0 0h24v24H0V0z\" fill=\"none\"/>\n",
              "    <path d=\"M18.56 5.44l.94 2.06.94-2.06 2.06-.94-2.06-.94-.94-2.06-.94 2.06-2.06.94zm-11 1L8.5 8.5l.94-2.06 2.06-.94-2.06-.94L8.5 2.5l-.94 2.06-2.06.94zm10 10l.94 2.06.94-2.06 2.06-.94-2.06-.94-.94-2.06-.94 2.06-2.06.94z\"/><path d=\"M17.41 7.96l-1.37-1.37c-.4-.4-.92-.59-1.43-.59-.52 0-1.04.2-1.43.59L10.3 9.45l-7.72 7.72c-.78.78-.78 2.05 0 2.83L4 21.41c.39.39.9.59 1.41.59.51 0 1.02-.2 1.41-.59l7.78-7.78 2.81-2.81c.8-.78.8-2.07 0-2.86zM5.41 20L4 18.59l7.72-7.72 1.47 1.35L5.41 20z\"/>\n",
              "  </svg>\n",
              "      </button>\n",
              "      \n",
              "  <style>\n",
              "    .colab-df-container {\n",
              "      display:flex;\n",
              "      flex-wrap:wrap;\n",
              "      gap: 12px;\n",
              "    }\n",
              "\n",
              "    .colab-df-convert {\n",
              "      background-color: #E8F0FE;\n",
              "      border: none;\n",
              "      border-radius: 50%;\n",
              "      cursor: pointer;\n",
              "      display: none;\n",
              "      fill: #1967D2;\n",
              "      height: 32px;\n",
              "      padding: 0 0 0 0;\n",
              "      width: 32px;\n",
              "    }\n",
              "\n",
              "    .colab-df-convert:hover {\n",
              "      background-color: #E2EBFA;\n",
              "      box-shadow: 0px 1px 2px rgba(60, 64, 67, 0.3), 0px 1px 3px 1px rgba(60, 64, 67, 0.15);\n",
              "      fill: #174EA6;\n",
              "    }\n",
              "\n",
              "    [theme=dark] .colab-df-convert {\n",
              "      background-color: #3B4455;\n",
              "      fill: #D2E3FC;\n",
              "    }\n",
              "\n",
              "    [theme=dark] .colab-df-convert:hover {\n",
              "      background-color: #434B5C;\n",
              "      box-shadow: 0px 1px 3px 1px rgba(0, 0, 0, 0.15);\n",
              "      filter: drop-shadow(0px 1px 2px rgba(0, 0, 0, 0.3));\n",
              "      fill: #FFFFFF;\n",
              "    }\n",
              "  </style>\n",
              "\n",
              "      <script>\n",
              "        const buttonEl =\n",
              "          document.querySelector('#df-218afffe-2561-4cfa-8c1c-fd995b6d0823 button.colab-df-convert');\n",
              "        buttonEl.style.display =\n",
              "          google.colab.kernel.accessAllowed ? 'block' : 'none';\n",
              "\n",
              "        async function convertToInteractive(key) {\n",
              "          const element = document.querySelector('#df-218afffe-2561-4cfa-8c1c-fd995b6d0823');\n",
              "          const dataTable =\n",
              "            await google.colab.kernel.invokeFunction('convertToInteractive',\n",
              "                                                     [key], {});\n",
              "          if (!dataTable) return;\n",
              "\n",
              "          const docLinkHtml = 'Like what you see? Visit the ' +\n",
              "            '<a target=\"_blank\" href=https://colab.research.google.com/notebooks/data_table.ipynb>data table notebook</a>'\n",
              "            + ' to learn more about interactive tables.';\n",
              "          element.innerHTML = '';\n",
              "          dataTable['output_type'] = 'display_data';\n",
              "          await google.colab.output.renderOutput(dataTable, element);\n",
              "          const docLink = document.createElement('div');\n",
              "          docLink.innerHTML = docLinkHtml;\n",
              "          element.appendChild(docLink);\n",
              "        }\n",
              "      </script>\n",
              "    </div>\n",
              "  </div>\n",
              "  "
            ]
          },
          "metadata": {},
          "execution_count": 193
        }
      ]
    },
    {
      "cell_type": "code",
      "source": [
        "df.info()"
      ],
      "metadata": {
        "colab": {
          "base_uri": "https://localhost:8080/"
        },
        "id": "N9HWg6hTMpgR",
        "outputId": "4da8fedf-7ab6-4506-e4f1-0cda9f6bf68c"
      },
      "execution_count": 194,
      "outputs": [
        {
          "output_type": "stream",
          "name": "stdout",
          "text": [
            "<class 'pandas.core.frame.DataFrame'>\n",
            "RangeIndex: 370 entries, 0 to 369\n",
            "Data columns (total 5 columns):\n",
            " #   Column      Non-Null Count  Dtype \n",
            "---  ------      --------------  ----- \n",
            " 0   COMMENT_ID  370 non-null    object\n",
            " 1   AUTHOR      370 non-null    object\n",
            " 2   DATE        370 non-null    object\n",
            " 3   CONTENT     370 non-null    object\n",
            " 4   CLASS       370 non-null    int64 \n",
            "dtypes: int64(1), object(4)\n",
            "memory usage: 14.6+ KB\n"
          ]
        }
      ]
    },
    {
      "cell_type": "code",
      "source": [
        "df.isnull().sum()"
      ],
      "metadata": {
        "colab": {
          "base_uri": "https://localhost:8080/"
        },
        "id": "WO2Ish16Mh4G",
        "outputId": "bfcb0347-92d0-4471-a9eb-9139bd31e0d7"
      },
      "execution_count": 195,
      "outputs": [
        {
          "output_type": "execute_result",
          "data": {
            "text/plain": [
              "COMMENT_ID    0\n",
              "AUTHOR        0\n",
              "DATE          0\n",
              "CONTENT       0\n",
              "CLASS         0\n",
              "dtype: int64"
            ]
          },
          "metadata": {},
          "execution_count": 195
        }
      ]
    },
    {
      "cell_type": "code",
      "source": [
        "data=df[['CONTENT','CLASS']]\n",
        "data.head()"
      ],
      "metadata": {
        "colab": {
          "base_uri": "https://localhost:8080/",
          "height": 206
        },
        "id": "bMQTy7_oMh6-",
        "outputId": "6bbaff90-35ae-4c8d-f535-30b227611407"
      },
      "execution_count": 196,
      "outputs": [
        {
          "output_type": "execute_result",
          "data": {
            "text/plain": [
              "                                             CONTENT  CLASS\n",
              "0                                         Nice song﻿      0\n",
              "1                                      I love song ﻿      0\n",
              "2                                      I love song ﻿      0\n",
              "3  860,000,000 lets make it first female to reach...      0\n",
              "4                      shakira is best for worldcup﻿      0"
            ],
            "text/html": [
              "\n",
              "  <div id=\"df-e453177a-89fd-44e1-8492-e1060086834e\">\n",
              "    <div class=\"colab-df-container\">\n",
              "      <div>\n",
              "<style scoped>\n",
              "    .dataframe tbody tr th:only-of-type {\n",
              "        vertical-align: middle;\n",
              "    }\n",
              "\n",
              "    .dataframe tbody tr th {\n",
              "        vertical-align: top;\n",
              "    }\n",
              "\n",
              "    .dataframe thead th {\n",
              "        text-align: right;\n",
              "    }\n",
              "</style>\n",
              "<table border=\"1\" class=\"dataframe\">\n",
              "  <thead>\n",
              "    <tr style=\"text-align: right;\">\n",
              "      <th></th>\n",
              "      <th>CONTENT</th>\n",
              "      <th>CLASS</th>\n",
              "    </tr>\n",
              "  </thead>\n",
              "  <tbody>\n",
              "    <tr>\n",
              "      <th>0</th>\n",
              "      <td>Nice song﻿</td>\n",
              "      <td>0</td>\n",
              "    </tr>\n",
              "    <tr>\n",
              "      <th>1</th>\n",
              "      <td>I love song ﻿</td>\n",
              "      <td>0</td>\n",
              "    </tr>\n",
              "    <tr>\n",
              "      <th>2</th>\n",
              "      <td>I love song ﻿</td>\n",
              "      <td>0</td>\n",
              "    </tr>\n",
              "    <tr>\n",
              "      <th>3</th>\n",
              "      <td>860,000,000 lets make it first female to reach...</td>\n",
              "      <td>0</td>\n",
              "    </tr>\n",
              "    <tr>\n",
              "      <th>4</th>\n",
              "      <td>shakira is best for worldcup﻿</td>\n",
              "      <td>0</td>\n",
              "    </tr>\n",
              "  </tbody>\n",
              "</table>\n",
              "</div>\n",
              "      <button class=\"colab-df-convert\" onclick=\"convertToInteractive('df-e453177a-89fd-44e1-8492-e1060086834e')\"\n",
              "              title=\"Convert this dataframe to an interactive table.\"\n",
              "              style=\"display:none;\">\n",
              "        \n",
              "  <svg xmlns=\"http://www.w3.org/2000/svg\" height=\"24px\"viewBox=\"0 0 24 24\"\n",
              "       width=\"24px\">\n",
              "    <path d=\"M0 0h24v24H0V0z\" fill=\"none\"/>\n",
              "    <path d=\"M18.56 5.44l.94 2.06.94-2.06 2.06-.94-2.06-.94-.94-2.06-.94 2.06-2.06.94zm-11 1L8.5 8.5l.94-2.06 2.06-.94-2.06-.94L8.5 2.5l-.94 2.06-2.06.94zm10 10l.94 2.06.94-2.06 2.06-.94-2.06-.94-.94-2.06-.94 2.06-2.06.94z\"/><path d=\"M17.41 7.96l-1.37-1.37c-.4-.4-.92-.59-1.43-.59-.52 0-1.04.2-1.43.59L10.3 9.45l-7.72 7.72c-.78.78-.78 2.05 0 2.83L4 21.41c.39.39.9.59 1.41.59.51 0 1.02-.2 1.41-.59l7.78-7.78 2.81-2.81c.8-.78.8-2.07 0-2.86zM5.41 20L4 18.59l7.72-7.72 1.47 1.35L5.41 20z\"/>\n",
              "  </svg>\n",
              "      </button>\n",
              "      \n",
              "  <style>\n",
              "    .colab-df-container {\n",
              "      display:flex;\n",
              "      flex-wrap:wrap;\n",
              "      gap: 12px;\n",
              "    }\n",
              "\n",
              "    .colab-df-convert {\n",
              "      background-color: #E8F0FE;\n",
              "      border: none;\n",
              "      border-radius: 50%;\n",
              "      cursor: pointer;\n",
              "      display: none;\n",
              "      fill: #1967D2;\n",
              "      height: 32px;\n",
              "      padding: 0 0 0 0;\n",
              "      width: 32px;\n",
              "    }\n",
              "\n",
              "    .colab-df-convert:hover {\n",
              "      background-color: #E2EBFA;\n",
              "      box-shadow: 0px 1px 2px rgba(60, 64, 67, 0.3), 0px 1px 3px 1px rgba(60, 64, 67, 0.15);\n",
              "      fill: #174EA6;\n",
              "    }\n",
              "\n",
              "    [theme=dark] .colab-df-convert {\n",
              "      background-color: #3B4455;\n",
              "      fill: #D2E3FC;\n",
              "    }\n",
              "\n",
              "    [theme=dark] .colab-df-convert:hover {\n",
              "      background-color: #434B5C;\n",
              "      box-shadow: 0px 1px 3px 1px rgba(0, 0, 0, 0.15);\n",
              "      filter: drop-shadow(0px 1px 2px rgba(0, 0, 0, 0.3));\n",
              "      fill: #FFFFFF;\n",
              "    }\n",
              "  </style>\n",
              "\n",
              "      <script>\n",
              "        const buttonEl =\n",
              "          document.querySelector('#df-e453177a-89fd-44e1-8492-e1060086834e button.colab-df-convert');\n",
              "        buttonEl.style.display =\n",
              "          google.colab.kernel.accessAllowed ? 'block' : 'none';\n",
              "\n",
              "        async function convertToInteractive(key) {\n",
              "          const element = document.querySelector('#df-e453177a-89fd-44e1-8492-e1060086834e');\n",
              "          const dataTable =\n",
              "            await google.colab.kernel.invokeFunction('convertToInteractive',\n",
              "                                                     [key], {});\n",
              "          if (!dataTable) return;\n",
              "\n",
              "          const docLinkHtml = 'Like what you see? Visit the ' +\n",
              "            '<a target=\"_blank\" href=https://colab.research.google.com/notebooks/data_table.ipynb>data table notebook</a>'\n",
              "            + ' to learn more about interactive tables.';\n",
              "          element.innerHTML = '';\n",
              "          dataTable['output_type'] = 'display_data';\n",
              "          await google.colab.output.renderOutput(dataTable, element);\n",
              "          const docLink = document.createElement('div');\n",
              "          docLink.innerHTML = docLinkHtml;\n",
              "          element.appendChild(docLink);\n",
              "        }\n",
              "      </script>\n",
              "    </div>\n",
              "  </div>\n",
              "  "
            ]
          },
          "metadata": {},
          "execution_count": 196
        }
      ]
    },
    {
      "cell_type": "code",
      "source": [
        "len(data)\n",
        "len(data.query('CLASS==1'))\n",
        "len(data.query('CLASS==0'))"
      ],
      "metadata": {
        "colab": {
          "base_uri": "https://localhost:8080/"
        },
        "id": "mvcLRc-EMh90",
        "outputId": "8876969e-f16b-40c6-d5c1-2c4f0d2d2db1"
      },
      "execution_count": 197,
      "outputs": [
        {
          "output_type": "execute_result",
          "data": {
            "text/plain": [
              "196"
            ]
          },
          "metadata": {},
          "execution_count": 197
        }
      ]
    },
    {
      "cell_type": "code",
      "source": [
        "fracdata=data.sample(frac=1)"
      ],
      "metadata": {
        "id": "nT8Sqy2_MiBK"
      },
      "execution_count": 198,
      "outputs": []
    },
    {
      "cell_type": "code",
      "source": [
        "train=fracdata.sample(frac=0.75,random_state=26)\n",
        "test=data.drop(train.index)"
      ],
      "metadata": {
        "id": "BTbgVGHuMiEF"
      },
      "execution_count": 199,
      "outputs": []
    },
    {
      "cell_type": "code",
      "source": [
        "x_train=np.array(train['CONTENT'])\n",
        "y_train=np.array(train['CLASS'])"
      ],
      "metadata": {
        "id": "sJaaBsJAMiHA"
      },
      "execution_count": 200,
      "outputs": []
    },
    {
      "cell_type": "code",
      "source": [
        "count_vectorizer=CountVectorizer()\n",
        "X_train=count_vectorizer.fit_transform(x_train)"
      ],
      "metadata": {
        "id": "O-ibkZaTMiM6"
      },
      "execution_count": 201,
      "outputs": []
    },
    {
      "cell_type": "code",
      "source": [
        "print('\\nDimensions of training data:',X_train.shape)"
      ],
      "metadata": {
        "colab": {
          "base_uri": "https://localhost:8080/"
        },
        "id": "9TgjsuheNvCJ",
        "outputId": "49ffb599-901a-496e-d849-a585bd075d72"
      },
      "execution_count": 202,
      "outputs": [
        {
          "output_type": "stream",
          "name": "stdout",
          "text": [
            "\n",
            "Dimensions of training data: (278, 1172)\n"
          ]
        }
      ]
    },
    {
      "cell_type": "code",
      "source": [
        "tfidf=TfidfTransformer()\n",
        "train_tfidf=tfidf.fit_transform(X_train)\n",
        "classifier=MultinomialNB().fit(train_tfidf,y_train)"
      ],
      "metadata": {
        "id": "DYrWTrD9NvFP"
      },
      "execution_count": 203,
      "outputs": []
    },
    {
      "cell_type": "code",
      "source": [
        "scores=cross_val_score(classifier,X_train,y_train,cv=5)\n",
        "scores"
      ],
      "metadata": {
        "colab": {
          "base_uri": "https://localhost:8080/"
        },
        "id": "A3ShDl2iNvIF",
        "outputId": "b7fda651-2b86-42db-c0df-361db4cfa4af"
      },
      "execution_count": 204,
      "outputs": [
        {
          "output_type": "execute_result",
          "data": {
            "text/plain": [
              "array([0.875     , 0.91071429, 0.91071429, 0.92727273, 0.94545455])"
            ]
          },
          "metadata": {},
          "execution_count": 204
        }
      ]
    },
    {
      "cell_type": "code",
      "source": [
        "scores2=cross_val_score(classifier,X_train,y_train)\n",
        "print(\"Accuracy mean:\",scores2.mean())"
      ],
      "metadata": {
        "colab": {
          "base_uri": "https://localhost:8080/"
        },
        "id": "gK68lu4FNvK-",
        "outputId": "60ca6585-45af-4991-ee3f-4826fadeb22b"
      },
      "execution_count": 205,
      "outputs": [
        {
          "output_type": "stream",
          "name": "stdout",
          "text": [
            "Accuracy mean: 0.9138311688311689\n"
          ]
        }
      ]
    },
    {
      "cell_type": "code",
      "source": [
        "input_data=np.array(test['CONTENT'])\n",
        "\n",
        "input_tc=count_vectorizer.transform(input_data)\n",
        "type(input_tc)\n",
        "print(input_tc)"
      ],
      "metadata": {
        "colab": {
          "base_uri": "https://localhost:8080/"
        },
        "id": "GfDaUBuFNvNl",
        "outputId": "2feb02c6-6737-46a9-c331-fe44995528b0"
      },
      "execution_count": 206,
      "outputs": [
        {
          "output_type": "stream",
          "name": "stdout",
          "text": [
            "  (0, 687)\t1\n",
            "  (0, 916)\t1\n",
            "  (1, 597)\t1\n",
            "  (1, 916)\t1\n",
            "  (2, 148)\t1\n",
            "  (2, 372)\t1\n",
            "  (2, 528)\t1\n",
            "  (2, 877)\t1\n",
            "  (3, 94)\t1\n",
            "  (3, 427)\t1\n",
            "  (3, 657)\t1\n",
            "  (3, 867)\t1\n",
            "  (3, 877)\t1\n",
            "  (3, 912)\t1\n",
            "  (3, 916)\t1\n",
            "  (3, 1041)\t1\n",
            "  (4, 167)\t1\n",
            "  (4, 597)\t1\n",
            "  (4, 877)\t1\n",
            "  (4, 916)\t1\n",
            "  (4, 1005)\t1\n",
            "  (4, 1079)\t2\n",
            "  (5, 426)\t1\n",
            "  (6, 21)\t1\n",
            "  (6, 468)\t1\n",
            "  :\t:\n",
            "  (88, 724)\t16\n",
            "  (89, 75)\t1\n",
            "  (89, 118)\t1\n",
            "  (89, 137)\t1\n",
            "  (89, 530)\t1\n",
            "  (89, 597)\t1\n",
            "  (89, 893)\t1\n",
            "  (89, 916)\t1\n",
            "  (89, 993)\t1\n",
            "  (89, 1005)\t1\n",
            "  (89, 1012)\t1\n",
            "  (89, 1095)\t1\n",
            "  (90, 46)\t1\n",
            "  (90, 64)\t2\n",
            "  (90, 136)\t1\n",
            "  (90, 372)\t1\n",
            "  (90, 508)\t1\n",
            "  (90, 528)\t1\n",
            "  (90, 530)\t1\n",
            "  (90, 597)\t1\n",
            "  (90, 916)\t1\n",
            "  (90, 1005)\t1\n",
            "  (90, 1040)\t1\n",
            "  (90, 1087)\t1\n",
            "  (91, 1144)\t1\n"
          ]
        }
      ]
    },
    {
      "cell_type": "code",
      "source": [
        "input_tfidf=tfidf.transform(input_tc)\n",
        "type(input_tfidf)\n",
        "print(input_tfidf)"
      ],
      "metadata": {
        "colab": {
          "base_uri": "https://localhost:8080/"
        },
        "id": "_1CPovSuNvQl",
        "outputId": "e5a8f49e-78e8-4aaf-d8d6-985472faff49"
      },
      "execution_count": 207,
      "outputs": [
        {
          "output_type": "stream",
          "name": "stdout",
          "text": [
            "  (0, 916)\t0.5131807435146195\n",
            "  (0, 687)\t0.8582805628032026\n",
            "  (1, 916)\t0.6636048033810807\n",
            "  (1, 597)\t0.748083327530802\n",
            "  (2, 877)\t0.4768649427225943\n",
            "  (2, 528)\t0.43726573063337004\n",
            "  (2, 372)\t0.491052288384049\n",
            "  (2, 148)\t0.5833233728290258\n",
            "  (3, 1041)\t0.45897270529613804\n",
            "  (3, 916)\t0.214708300196901\n",
            "  (3, 912)\t0.43510721146782194\n",
            "  (3, 877)\t0.2575718670446174\n",
            "  (3, 867)\t0.36783416276733466\n",
            "  (3, 657)\t0.40147068711757833\n",
            "  (3, 427)\t0.3886826740631159\n",
            "  (3, 94)\t0.20006984886605764\n",
            "  (4, 1079)\t0.7922727832469986\n",
            "  (4, 1005)\t0.1973911695391373\n",
            "  (4, 916)\t0.24218944290319047\n",
            "  (4, 877)\t0.2905392429163803\n",
            "  (4, 597)\t0.2730207548479829\n",
            "  (4, 167)\t0.3401932577346034\n",
            "  (5, 426)\t1.0\n",
            "  (6, 1115)\t0.49684818543506565\n",
            "  (6, 1092)\t0.42018054740264477\n",
            "  :\t:\n",
            "  (88, 203)\t0.3132671199654752\n",
            "  (89, 1095)\t0.3650964155217665\n",
            "  (89, 1012)\t0.3066331731948997\n",
            "  (89, 1005)\t0.17791851925430296\n",
            "  (89, 993)\t0.2046638604074733\n",
            "  (89, 916)\t0.21829744036151846\n",
            "  (89, 893)\t0.4423806180718597\n",
            "  (89, 597)\t0.2460872416008153\n",
            "  (89, 530)\t0.21979030463921695\n",
            "  (89, 137)\t0.39518003161981735\n",
            "  (89, 118)\t0.3254541334181261\n",
            "  (89, 75)\t0.29125532898633516\n",
            "  (90, 1087)\t0.2949127585617408\n",
            "  (90, 1040)\t0.38473185589028724\n",
            "  (90, 1005)\t0.13667118142461676\n",
            "  (90, 916)\t0.16768894661007577\n",
            "  (90, 597)\t0.1890361620817902\n",
            "  (90, 530)\t0.168835716071708\n",
            "  (90, 528)\t0.18446079459809694\n",
            "  (90, 508)\t0.1939593485029875\n",
            "  (90, 372)\t0.20715068426087835\n",
            "  (90, 136)\t0.28045511311800014\n",
            "  (90, 64)\t0.6071287241290552\n",
            "  (90, 46)\t0.3035643620645276\n",
            "  (91, 1144)\t1.0\n"
          ]
        }
      ]
    },
    {
      "cell_type": "code",
      "source": [
        "predictions=classifier.predict(input_tfidf)"
      ],
      "metadata": {
        "id": "bUx16nqKOrmU"
      },
      "execution_count": 208,
      "outputs": []
    },
    {
      "cell_type": "code",
      "source": [],
      "metadata": {
        "id": "g5KAPXMsOrp1"
      },
      "execution_count": 208,
      "outputs": []
    }
  ]
}